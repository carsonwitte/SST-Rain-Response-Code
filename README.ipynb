{
 "cells": [
  {
   "cell_type": "markdown",
   "metadata": {},
   "source": [
    "# SST-Rain-Response-Code\n",
    "Code for analysis related to SST rain response paper, including updates to Deb's DYNAMO anlaysis and Falkor 2016 & 2019 analysis.\n",
    "\n",
    "## Variable Names\n",
    "\n",
    "$\\Delta SST_{skin}$ - departure of skin temperature (KT15) from 3-minute mean prior to rain onset\n",
    "\n",
    "$t_{*SST}$ - time from rain onset to maximum SST response (maximum $\\Delta SST_{skin}$)\n",
    "\n",
    "$L_{rain}$ - length of rain event\n",
    "\n",
    "$t_{*rain}$ - time from rain onset to peak rain rate\n",
    "\n",
    "\n",
    "## Overview of dataset\n",
    "\n",
    "The figure below shows a series of histograms of relevant variables for each of the 103 identified rain events on DYNAMO.\n",
    "The events are largely ~1hr long and deposit ~15mm rain, with only a few very long events (>10hrs).\n",
    "\n",
    "![Histograms](Histograms v1.png)\n",
    "\n",
    "\n",
    "## Relationships between variables\n",
    "\n",
    "The figure below shows attempts to relate both the maximum skin temperature deviation ($\\Delta SST_{skin}$) and the time between rain onset and maxiumum skin temperature deviation ($t_{*SST}$) to other relevant parameters.\n",
    "![Scatterplots](Scatterplots v1.png)\n",
    "\n",
    "The relationship between $t_{*rain}$ and $t_{*SST}$ looks fairly robust and close to 1:1 (red line). It makes some intuitive sense that the time period of the largest rain rate would tend to correspond to the time period of the largest SST deviation.\n",
    "\n",
    "The other relationship that may have some legs is between $L_{rain}$ vs. $t_{*SST}$. However, this correspondence may just reflect the agreement between $t_{*rain}$ and $t_{*SST}$, in that longer rain events may tend to take longer to reach their maximum rain rate. **Plot $L_{rain}$ vs. $t_{*rain}$ and verify.** \n",
    "\n",
    "## Normalized timeseries of temperature deviation\n",
    "\n",
    "The figure below shows a bin-averaged timeseries of all 103 rain events, where rain onset for each event corresponds to T=0, and the timescale of the event is normalized by $t_{*SST}$, the time it takes to reach the maximum SST deviation. This means that the maximum $\\Delta SST_{skin}$ always occurs at T=1. \n",
    "\n",
    "![Timeseries](Timeseries v1.png)\n",
    "\n",
    "It would seem to make more sense to **normalize the timescale in this figure by $t_{*rain}$ rather than $t_{*SST}$**, especially given the good correspondence between the two.\n",
    "\n",
    "The **locations of the bins** also seem arbitrary and poorly chosen, as there is no bin centered on 0 or 1, the two most important parts of the timescale. \n",
    "\n",
    "There is very close temporal alignment of the trends in $\\Delta SST_{skin}$, $\\Delta T_{bulk}$, and $\\Delta T_{air}$, with the drop in SST about double the drop in bulk water temperature. It is interesting that there is no time lag between the trends in SST and bulk temperature - likely due to some combination of these two factors:\n",
    "    - insufficient temporal resolution between bins to see the delay\n",
    "    - downward mixing occuring on sufficiently short timescales\n",
    "   \n",
    "\n",
    "### Deb's scripts:\n",
    "*SST_rain_comparison_ID_rainpeaks.m*    does the basic peak detection and collates met data from Edson.\n",
    "\n",
    "*SST_rain_comparison_bin_average_interim.m*   plots some histograms and scatterplots\n",
    "\n",
    "*SST_rain_comparison_with_anomaly.m*    Collates variables into structure Var\n",
    "\n",
    "*SST_rain_comparison_peak_response.m*   Adds times to max SST response, time to recover, etc.\n",
    "\n",
    "*SST_rain_comparison_bin_average_more.m*  bin averages to create composite event - scales to beginning of event, and produces unscaled time as well (want scaled!)\n",
    "\n",
    "*SST_rain_comparison_bin_average_long_short.m*   bin averages to create\n",
    "composite but selects out long events"
   ]
  },
  {
   "cell_type": "code",
   "execution_count": null,
   "metadata": {},
   "outputs": [],
   "source": []
  }
 ],
 "metadata": {
  "kernelspec": {
   "display_name": "Python 3",
   "language": "python",
   "name": "python3"
  },
  "language_info": {
   "codemirror_mode": {
    "name": "ipython",
    "version": 3
   },
   "file_extension": ".py",
   "mimetype": "text/x-python",
   "name": "python",
   "nbconvert_exporter": "python",
   "pygments_lexer": "ipython3",
   "version": "3.6.5"
  }
 },
 "nbformat": 4,
 "nbformat_minor": 2
}
