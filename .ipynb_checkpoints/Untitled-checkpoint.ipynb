{
 "cells": [
  {
   "cell_type": "code",
   "execution_count": 1,
   "metadata": {},
   "outputs": [],
   "source": [
    "import numpy as np\n",
    "import pandas as pd\n",
    "import xarray as xr\n",
    "import numpy as np\n",
    "import datetime as dt\n",
    "import glob\n",
    "from matplotlib import pyplot as plt\n",
    "%matplotlib inline\n",
    "from scipy.io import loadmat"
   ]
  },
  {
   "cell_type": "code",
   "execution_count": 2,
   "metadata": {},
   "outputs": [
    {
     "data": {
      "text/plain": [
       "{'SOG': array([[5.95609602, 5.96714568, 5.96780633, ..., 7.41694243, 7.394837  ,\n",
       "         7.39802866]]),\n",
       " 'yday': array([[246.        , 246.00069444, 246.00138889, ..., 265.49861111,\n",
       "         265.49930556, 265.5       ]]),\n",
       " 'dSolar': array([[-1509.48083335, -1505.78083335, -1502.08083335, ...,\n",
       "            -7.3       ,    -6.39274395,    -5.32739384]]),\n",
       " 'Tsea': array([[26.36403963, 26.3698348 , 26.37533933, ..., 28.4346256 ,\n",
       "         28.43638005, 28.43881319]]),\n",
       " 'Lat': array([[-12.27491184, -12.27498114, -12.2750166 , ...,   6.79361247,\n",
       "           6.79590136,   6.79818502]]),\n",
       " 'Lon': array([[106.22016121, 106.22016121, 106.21855559, ...,  88.2172137 ,\n",
       "          88.22051282,  88.22382534]]),\n",
       " 'COG': array([[268.96188364, 268.96380618, 271.23356846, ...,  55.56457588,\n",
       "          55.38003466,  55.62614114]]),\n",
       " 'wdir': array([[105.42484367, 108.48989358, 111.25745311, ..., 216.28346092,\n",
       "         215.2872918 , 215.17292612]]),\n",
       " 'stress': array([[0.10272487, 0.08739224, 0.08750629, ..., 0.08605648, 0.10644863,\n",
       "         0.11381792]]),\n",
       " 'shf': array([[5.21623358, 4.66284073, 4.14311618, ..., 5.94523545, 6.86504729,\n",
       "         7.46812808]]),\n",
       " 'lhf': array([[154.87200821, 138.51744049, 134.84508952, ..., 119.01658626,\n",
       "         131.70429039, 137.56825814]]),\n",
       " 'Qsea': array([[21.02673622, 21.0338617 , 21.04019225, ..., 23.90566757,\n",
       "         23.90799656, 23.91081684]]),\n",
       " 'interped': array([[0, 0, 0, ..., 0, 0, 0]], dtype=uint8),\n",
       " 'Heading': array([[262.92339731, 264.99187053, 268.16112104, ...,  55.93491314,\n",
       "          55.75123155,  56.39307142]]),\n",
       " 'TseaTSG': array([[26.35646878, 26.35946628, 26.362465  , ..., 28.46801   ,\n",
       "         28.46897123, 28.4724617 ]]),\n",
       " 'SalTSG': array([[33.93270316, 33.93719942, 33.93901167, ..., 34.109745  ,\n",
       "         34.11343286, 34.11822606]]),\n",
       " 'wdirR': array([[103.19803873, 106.12885339, 108.90432958, ..., 216.48376847,\n",
       "         215.50821424, 215.38668795]]),\n",
       " 'cspd': array([[0.28553299, 0.28553299, 0.28553299, ..., 0.12503597, 0.13572992,\n",
       "         0.13572992]]),\n",
       " 'cdir': array([[197.00205593, 197.00205593, 197.00205593, ..., 205.11970745,\n",
       "         203.02074031, 203.02074031]]),\n",
       " 'U10': array([[7.33243461, 6.93023594, 6.95051335, ..., 7.04726969, 7.61145563,\n",
       "         7.79106709]]),\n",
       " 'Pair10': array([[1012.28412496, 1012.29172358, 1012.31989714, ..., 1006.87160394,\n",
       "         1006.87756119, 1006.90291107]]),\n",
       " 'SST': array([[26.14020458, 26.14791667, 26.15961883, ..., 28.24699836,\n",
       "         28.25431622, 28.25599491]]),\n",
       " 'Ur10': array([[7.34584086, 6.92870411, 6.93517415, ..., 6.92464199, 7.47888005,\n",
       "         7.65843191]]),\n",
       " 'T02': array([[25.71787762, 25.74656326, 25.80062673, ..., 27.73410511,\n",
       "         27.70722953, 27.67656859]]),\n",
       " 'Q02': array([[15.83369462, 16.09709047, 16.23333815, ..., 19.57614832,\n",
       "         19.48489514, 19.40680764]]),\n",
       " 'RH02': array([[76.91167954, 78.04644612, 78.4509633 , ..., 83.81173469,\n",
       "         83.55719995, 83.37757004]]),\n",
       " 'T10': array([[25.59101304, 25.6222488 , 25.68109843, ..., 27.59618331,\n",
       "         27.56489058, 27.53046159]]),\n",
       " 'Q10': array([[15.23470731, 15.52898299, 15.67509283, ..., 19.079978  ,\n",
       "         18.97441209, 18.887999  ]]),\n",
       " 'RH10': array([[74.58808547, 75.87514815, 76.31750692, ..., 82.37311383,\n",
       "         82.07309299, 81.87031969]]),\n",
       " 'rhf': array([[1.18581277, 1.10925069, 1.07191   , ..., 0.        , 0.        ,\n",
       "         0.        ]]),\n",
       " 'SSQ': array([[20.74958319, 20.75900128, 20.77293885, ..., 23.64567691,\n",
       "         23.65569378, 23.65744335]]),\n",
       " 'IRdn': array([[-382.50619099, -384.26314375, -385.89653153, ..., -416.27535977,\n",
       "         -416.74517017, -416.15744687]]),\n",
       " 'IRup': array([[452.82489811, 452.92309764, 453.04113296, ..., 466.39655749,\n",
       "         466.45473516, 466.44721648]]),\n",
       " 'Solardn': array([[-214.26425895, -212.89539967, -218.23568333, ...,   -5.9692    ,\n",
       "           -5.04882402,   -4.13371357]]),\n",
       " 'Solarup': array([[41.68108855, 40.77664827, 41.78449511, ...,  0.417844  ,\n",
       "          0.35341768,  0.28935995]]),\n",
       " 'E': array([[0.22863863, 0.20449542, 0.19907493, ..., 0.17605932, 0.19482837,\n",
       "         0.20350334]]),\n",
       " 'P': array([[0.25714286, 0.25714286, 0.25714286, ..., 0.        , 0.        ,\n",
       "         0.        ]]),\n",
       " 'Precip': array([[4.28571429e-03, 8.57142857e-03, 1.28571429e-02, ...,\n",
       "         3.52583557e+01, 3.52583557e+01, 3.52583557e+01]]),\n",
       " 'Evap': array([[3.81064378e-03, 7.21890071e-03, 1.05368163e-02, ...,\n",
       "         7.32156334e+01, 7.32188805e+01, 7.32222722e+01]])}"
      ]
     },
     "execution_count": 2,
     "metadata": {},
     "output_type": "execute_result"
    }
   ],
   "source": [
    "#generate list of 1min Revelle .mat data files in the Level-1 Folder (provided by Jim Edson)\n",
    "data_folder = '../Data/Level_1/Dynamo/Revelle_FluxData/'\n",
    "files = glob.glob(data_folder + '/*1minute*.mat')\n",
    "\n",
    "#iterate over list of files\n",
    "for filepath in files: \n",
    "    #import file as a dictionary of numpy arrays using the scipy loadmat function\n",
    "    Revelle_Leg = loadmat(filepath)\n",
    "    #drop the metadata keys from the dictionary so that all the remaining arrays are the same size\n",
    "    del Revelle_Leg['__header__']\n",
    "    del Revelle_Leg['__version__']\n",
    "    del Revelle_Leg['__globals__']\n",
    "    \n",
    "    break\n",
    "Revelle_Leg"
   ]
  },
  {
   "cell_type": "code",
   "execution_count": 3,
   "metadata": {},
   "outputs": [
    {
     "data": {
      "text/plain": [
       "['../Data/Level_1/Dynamo/Revelle_FluxData\\\\Revelle1minuteLeg1_r2b.mat',\n",
       " '../Data/Level_1/Dynamo/Revelle_FluxData\\\\Revelle1minuteLeg2_r2b.mat',\n",
       " '../Data/Level_1/Dynamo/Revelle_FluxData\\\\Revelle1minuteLeg3_r2b.mat',\n",
       " '../Data/Level_1/Dynamo/Revelle_FluxData\\\\Revelle1minuteLeg4_r2b.mat']"
      ]
     },
     "execution_count": 3,
     "metadata": {},
     "output_type": "execute_result"
    }
   ],
   "source": [
    "files"
   ]
  },
  {
   "cell_type": "code",
   "execution_count": null,
   "metadata": {},
   "outputs": [],
   "source": []
  },
  {
   "cell_type": "code",
   "execution_count": null,
   "metadata": {},
   "outputs": [],
   "source": []
  },
  {
   "cell_type": "code",
   "execution_count": null,
   "metadata": {},
   "outputs": [],
   "source": []
  },
  {
   "cell_type": "code",
   "execution_count": null,
   "metadata": {},
   "outputs": [],
   "source": []
  },
  {
   "cell_type": "code",
   "execution_count": null,
   "metadata": {},
   "outputs": [],
   "source": []
  },
  {
   "cell_type": "code",
   "execution_count": null,
   "metadata": {},
   "outputs": [],
   "source": []
  },
  {
   "cell_type": "code",
   "execution_count": null,
   "metadata": {},
   "outputs": [],
   "source": []
  },
  {
   "cell_type": "code",
   "execution_count": null,
   "metadata": {},
   "outputs": [],
   "source": []
  },
  {
   "cell_type": "code",
   "execution_count": null,
   "metadata": {},
   "outputs": [],
   "source": []
  },
  {
   "cell_type": "code",
   "execution_count": 1,
   "metadata": {},
   "outputs": [],
   "source": [
    "import numpy as np\n",
    "import pandas as pd\n",
    "import glob\n",
    "import xarray as xr\n",
    "from matplotlib import pyplot as plt\n",
    "%matplotlib inline"
   ]
  },
  {
   "cell_type": "code",
   "execution_count": 2,
   "metadata": {},
   "outputs": [
    {
     "data": {
      "text/plain": [
       "<xarray.Dataset>\n",
       "Dimensions:  (index: 7)\n",
       "Coordinates:\n",
       "  * index    (index) int64 10 15 20 25 30 35 40\n",
       "Data variables:\n",
       "    Mean     (index) float64 ...\n",
       "    Std      (index) float64 ...\n",
       "Attributes:\n",
       "    serial_number:     7409\n",
       "    calibration_date:  2016-08-24\n",
       "    slope:             0.9368753071765249\n",
       "    yint:              1.7456966633785704"
      ]
     },
     "execution_count": 2,
     "metadata": {},
     "output_type": "execute_result"
    }
   ],
   "source": [
    "xr.open_dataset('../Data/Level_1/Falkor16/KT15_LabCalibrations/KT15_LabCalibration_7409_2016-08-24.cdf')"
   ]
  },
  {
   "cell_type": "code",
   "execution_count": 6,
   "metadata": {},
   "outputs": [],
   "source": [
    "output_path = '../Data/Level_1/Dynamo/KT15_LabCalibrations/'\n",
    "\n",
    "cal_7409_2007 = xr.Dataset(attrs={'serial_number':7409,\n",
    "                                  'calibration_date':'2007',\n",
    "                                  'slope':0.94989,\n",
    "                                  'yint': 1.4897})\n",
    "cal_7409_2007.to_netcdf(output_path+'/KT15_LabCalibration_7409_2007-00-00.cdf')\n",
    "\n",
    "cal_7409_2014 = xr.Dataset(attrs={'serial_number':7409,\n",
    "                                  'calibration_date':'2014',\n",
    "                                  'slope':0.9726,\n",
    "                                  'yint': 0.65781})\n",
    "cal_7409_2014.to_netcdf(output_path+'/KT15_LabCalibration_7409_2014-00-00.cdf')\n",
    "\n",
    "cal_7417_2007 = xr.Dataset(attrs={'serial_number':7417,\n",
    "                                  'calibration_date':'2007',\n",
    "                                  'slope':0.90621,\n",
    "                                  'yint': 2.6117})\n",
    "cal_7417_2007.to_netcdf(output_path+'/KT15_LabCalibration_7417_2007-00-00.cdf')\n",
    "\n",
    "cal_7417_2014 = xr.Dataset(attrs={'serial_number':7417,\n",
    "                                  'calibration_date':'2014',\n",
    "                                  'slope':0.9509,\n",
    "                                  'yint': 1.28615})\n",
    "cal_7417_2014.to_netcdf(output_path+'/KT15_LabCalibration_7417_2014-00-00.cdf')"
   ]
  },
  {
   "cell_type": "code",
   "execution_count": null,
   "metadata": {},
   "outputs": [],
   "source": []
  },
  {
   "cell_type": "code",
   "execution_count": null,
   "metadata": {},
   "outputs": [],
   "source": []
  },
  {
   "cell_type": "code",
   "execution_count": null,
   "metadata": {},
   "outputs": [],
   "source": []
  },
  {
   "cell_type": "code",
   "execution_count": null,
   "metadata": {},
   "outputs": [],
   "source": []
  },
  {
   "cell_type": "code",
   "execution_count": null,
   "metadata": {},
   "outputs": [],
   "source": []
  },
  {
   "cell_type": "code",
   "execution_count": null,
   "metadata": {},
   "outputs": [],
   "source": []
  },
  {
   "cell_type": "code",
   "execution_count": null,
   "metadata": {},
   "outputs": [],
   "source": []
  },
  {
   "cell_type": "code",
   "execution_count": null,
   "metadata": {},
   "outputs": [],
   "source": []
  },
  {
   "cell_type": "code",
   "execution_count": null,
   "metadata": {},
   "outputs": [],
   "source": []
  },
  {
   "cell_type": "code",
   "execution_count": null,
   "metadata": {},
   "outputs": [],
   "source": []
  },
  {
   "cell_type": "code",
   "execution_count": null,
   "metadata": {},
   "outputs": [],
   "source": []
  },
  {
   "cell_type": "code",
   "execution_count": null,
   "metadata": {},
   "outputs": [],
   "source": []
  },
  {
   "cell_type": "code",
   "execution_count": null,
   "metadata": {},
   "outputs": [],
   "source": []
  },
  {
   "cell_type": "code",
   "execution_count": null,
   "metadata": {},
   "outputs": [],
   "source": []
  },
  {
   "cell_type": "code",
   "execution_count": null,
   "metadata": {},
   "outputs": [],
   "source": []
  },
  {
   "cell_type": "code",
   "execution_count": null,
   "metadata": {},
   "outputs": [],
   "source": []
  },
  {
   "cell_type": "code",
   "execution_count": null,
   "metadata": {},
   "outputs": [],
   "source": []
  },
  {
   "cell_type": "code",
   "execution_count": null,
   "metadata": {},
   "outputs": [],
   "source": []
  },
  {
   "cell_type": "code",
   "execution_count": null,
   "metadata": {},
   "outputs": [],
   "source": []
  },
  {
   "cell_type": "code",
   "execution_count": 2,
   "metadata": {},
   "outputs": [],
   "source": [
    "#function inputs:\n",
    "data_folder = '..\\Data\\Level_0\\Falkor19\\KT15'\n",
    "output_path = '..\\Data\\Level_1\\Falkor19\\KT15'\n",
    "sea_serial = 7417\n",
    "sky_serial = 7409\n",
    "experiment = 'Falkor19'"
   ]
  },
  {
   "cell_type": "code",
   "execution_count": 3,
   "metadata": {},
   "outputs": [
    {
     "data": {
      "text/plain": [
       "'..\\\\Data\\\\Level_0\\\\Falkor19\\\\KT15\\\\2019_Falkor_326_065848.txt'"
      ]
     },
     "execution_count": 3,
     "metadata": {},
     "output_type": "execute_result"
    }
   ],
   "source": [
    "files = glob.glob(data_folder + '\\*.txt')\n",
    "files[1]"
   ]
  },
  {
   "cell_type": "code",
   "execution_count": 6,
   "metadata": {},
   "outputs": [
    {
     "name": "stdout",
     "output_type": "stream",
     "text": [
      "0.0009961128234863281\n"
     ]
    }
   ],
   "source": [
    "#loop through filenames and import to pandas dataframes\n",
    "import time \n",
    "\n",
    "start = time.time()\n",
    "df = (pd.read_csv(f, delimiter='\\s+', skiprows=1, header=None,                                                  #treat whitespace as the delimeter, ignore the header line\n",
    "                  usecols=[0,1,2,3,4,5], names=['Date','Time','SeaRef','SeaTemp','SkyRef','SkyTemp'],           #use the first 6 columns, and name them as specified\n",
    "                  parse_dates={'DateTime':[0,1]}, index_col=0,                                                  #parse the first two columns as a single DateTime, and make it the index column\n",
    "                  na_values=['AMB','TIMEOUT','ERROR'],                                                          #list of other things the parser might encounter in these files, that should be treated like NaNs\n",
    "                  dtype={'SeaRef':np.float64, 'SeaTemp':np.float64, 'SkyRef':np.float64, 'SkyTemp':np.float64}, #explicitly specify that data columns must be 64-bit floating point numbers\n",
    "                  error_bad_lines=False, warn_bad_lines=True).dropna(axis='index',how='any',inplace=True)       #drop any bad lines or rows with NaN in them\n",
    "      for f in glob.glob(data_folder + '\\*.txt'))                                                               #iterate over all the text files found in the data_folder\n",
    "end = time.time()\n",
    "print(end-start)"
   ]
  },
  {
   "cell_type": "code",
   "execution_count": 7,
   "metadata": {},
   "outputs": [
    {
     "ename": "AttributeError",
     "evalue": "'generator' object has no attribute 'concat'",
     "output_type": "error",
     "traceback": [
      "\u001b[1;31m---------------------------------------------------------------------------\u001b[0m",
      "\u001b[1;31mAttributeError\u001b[0m                            Traceback (most recent call last)",
      "\u001b[1;32m<ipython-input-7-3af5dc3447a3>\u001b[0m in \u001b[0;36m<module>\u001b[1;34m()\u001b[0m\n\u001b[0;32m      1\u001b[0m \u001b[0mstart\u001b[0m \u001b[1;33m=\u001b[0m \u001b[0mtime\u001b[0m\u001b[1;33m.\u001b[0m\u001b[0mtime\u001b[0m\u001b[1;33m(\u001b[0m\u001b[1;33m)\u001b[0m\u001b[1;33m\u001b[0m\u001b[0m\n\u001b[1;32m----> 2\u001b[1;33m \u001b[0mkt\u001b[0m \u001b[1;33m=\u001b[0m \u001b[0mdf\u001b[0m\u001b[1;33m.\u001b[0m\u001b[0mconcat\u001b[0m\u001b[1;33m(\u001b[0m\u001b[1;33m)\u001b[0m\u001b[1;33m\u001b[0m\u001b[0m\n\u001b[0m\u001b[0;32m      3\u001b[0m \u001b[0mend\u001b[0m \u001b[1;33m=\u001b[0m \u001b[0mtime\u001b[0m\u001b[1;33m.\u001b[0m\u001b[0mtime\u001b[0m\u001b[1;33m(\u001b[0m\u001b[1;33m)\u001b[0m\u001b[1;33m\u001b[0m\u001b[0m\n\u001b[0;32m      4\u001b[0m \u001b[0mprint\u001b[0m\u001b[1;33m(\u001b[0m\u001b[0mend\u001b[0m\u001b[1;33m-\u001b[0m\u001b[0mstart\u001b[0m\u001b[1;33m)\u001b[0m\u001b[1;33m\u001b[0m\u001b[0m\n",
      "\u001b[1;31mAttributeError\u001b[0m: 'generator' object has no attribute 'concat'"
     ]
    }
   ],
   "source": [
    "start = time.time()\n",
    "kt = df.concat()\n",
    "end = time.time()\n",
    "print(end-start)"
   ]
  },
  {
   "cell_type": "code",
   "execution_count": 8,
   "metadata": {},
   "outputs": [],
   "source": [
    "from tqdm import tqdm\n"
   ]
  },
  {
   "cell_type": "code",
   "execution_count": null,
   "metadata": {},
   "outputs": [],
   "source": []
  },
  {
   "cell_type": "code",
   "execution_count": null,
   "metadata": {},
   "outputs": [],
   "source": []
  },
  {
   "cell_type": "markdown",
   "metadata": {},
   "source": [
    "### Doing it with a classic for loop\n",
    "takes about 7 mins"
   ]
  },
  {
   "cell_type": "code",
   "execution_count": 10,
   "metadata": {},
   "outputs": [
    {
     "name": "stderr",
     "output_type": "stream",
     "text": [
      "\n",
      "  0%|                                                                                           | 0/22 [00:00<?, ?it/s]\n",
      "  5%|███▊                                                                               | 1/22 [00:15<05:18, 15.18s/it]\n",
      "  9%|███████▌                                                                           | 2/22 [00:27<04:48, 14.43s/it]\n",
      " 14%|███████████▎                                                                       | 3/22 [00:42<04:34, 14.47s/it]\n",
      " 18%|███████████████                                                                    | 4/22 [00:49<03:40, 12.24s/it]\n",
      " 23%|██████████████████▊                                                                | 5/22 [00:55<02:57, 10.42s/it]\n",
      " 27%|██████████████████████▋                                                            | 6/22 [01:10<03:05, 11.61s/it]\n",
      " 32%|██████████████████████████▍                                                        | 7/22 [01:25<03:11, 12.75s/it]\n",
      " 36%|██████████████████████████████▏                                                    | 8/22 [01:40<03:06, 13.32s/it]\n",
      " 41%|█████████████████████████████████▉                                                 | 9/22 [01:52<02:50, 13.09s/it]\n",
      " 45%|█████████████████████████████████████▎                                            | 10/22 [02:06<02:40, 13.36s/it]\n",
      " 50%|█████████████████████████████████████████                                         | 11/22 [02:20<02:26, 13.36s/it]\n",
      " 55%|████████████████████████████████████████████▋                                     | 12/22 [02:34<02:16, 13.61s/it]\n",
      " 59%|████████████████████████████████████████████████▍                                 | 13/22 [03:03<02:43, 18.22s/it]\n",
      " 64%|████████████████████████████████████████████████████▏                             | 14/22 [03:17<02:15, 16.94s/it]\n",
      " 68%|███████████████████████████████████████████████████████▉                          | 15/22 [04:41<04:21, 37.30s/it]\n",
      " 73%|███████████████████████████████████████████████████████████▋                      | 16/22 [04:55<03:01, 30.26s/it]\n",
      " 77%|███████████████████████████████████████████████████████████████▎                  | 17/22 [05:24<02:29, 29.81s/it]\n",
      " 82%|███████████████████████████████████████████████████████████████████               | 18/22 [05:38<01:39, 24.91s/it]\n",
      " 86%|██████████████████████████████████████████████████████████████████████▊           | 19/22 [05:52<01:05, 21.86s/it]\n",
      " 91%|██████████████████████████████████████████████████████████████████████████▌       | 20/22 [06:06<00:39, 19.53s/it]\n",
      " 95%|██████████████████████████████████████████████████████████████████████████████▎   | 21/22 [06:21<00:18, 18.19s/it]\n",
      "100%|██████████████████████████████████████████████████████████████████████████████████| 22/22 [06:43<00:00, 19.29s/it]"
     ]
    },
    {
     "name": "stdout",
     "output_type": "stream",
     "text": [
      "403.7713885307312\n"
     ]
    }
   ],
   "source": [
    "from tqdm import tqdm\n",
    "files = glob.glob(data_folder + '\\*.txt')\n",
    "li = []\n",
    "start = time.time()\n",
    "for filepath in tqdm(files):\n",
    "    df = pd.read_csv(filepath,                                                                                     #filename to read in\n",
    "                     delimiter='\\s+', skiprows=1, header=None,                                                     #treat whitespace as the delimeter, ignore the header line\n",
    "                     usecols=[0,1,2,3,4,5], names=['Date','Time','SeaRef','SeaTemp','SkyRef','SkyTemp'],           #use the first 6 columns, and name them as specified\n",
    "                     parse_dates={'DateTime':[0,1]}, index_col=0,                                                  #parse the first two columns as a single DateTime, and make it the index column\n",
    "                     na_values=['AMB','TIMEOUT','ERROR'],                                                                            #list of other things the parser might encounter in these files, that should be treated like NaNs\n",
    "                     dtype={'SeaRef':np.float64, 'SeaTemp':np.float64, 'SkyRef':np.float64, 'SkyTemp':np.float64}, #explicitly specify that data columns must be 64-bit floating point numbers\n",
    "                     error_bad_lines=False, warn_bad_lines=True)                                                   #if there is a bad line in the data file, drop it from the file and show a warning, but continue parsing\n",
    "    df.dropna(axis='index',how='any',inplace=True)                                                                 #drop any rows that have a NaN value in them\n",
    "    \n",
    "    li.append(df)\n",
    "\n",
    "end = time.time()\n",
    "print(end-start)"
   ]
  },
  {
   "cell_type": "code",
   "execution_count": 13,
   "metadata": {},
   "outputs": [
    {
     "name": "stdout",
     "output_type": "stream",
     "text": [
      "0.10170221328735352\n"
     ]
    }
   ],
   "source": [
    "start = time.time()\n",
    "kt = pd.concat(li, axis=0)\n",
    "end = time.time()\n",
    "print(end-start)"
   ]
  },
  {
   "cell_type": "code",
   "execution_count": 15,
   "metadata": {},
   "outputs": [
    {
     "name": "stdout",
     "output_type": "stream",
     "text": [
      "0.3690192699432373\n"
     ]
    }
   ],
   "source": [
    "start = time.time()\n",
    "kt.to_pickle(output_path+f'\\{experiment}_KT15_{sea_serial}_{sky_serial}.p')\n",
    "end = time.time()\n",
    "print(end-start)"
   ]
  },
  {
   "cell_type": "code",
   "execution_count": 16,
   "metadata": {},
   "outputs": [
    {
     "data": {
      "text/plain": [
       "<xarray.Dataset>\n",
       "Dimensions:   (DateTime: 2972671)\n",
       "Coordinates:\n",
       "  * DateTime  (DateTime) datetime64[ns] 2019-11-21T04:34:36.153000 ... 2019-12-18T19:56:40.848000\n",
       "Data variables:\n",
       "    SeaRef    (DateTime) float64 31.51 31.51 31.51 31.51 ... 35.36 35.36 35.36\n",
       "    SeaTemp   (DateTime) float64 27.94 27.98 27.9 27.92 ... 28.4 28.3 28.26\n",
       "    SkyRef    (DateTime) float64 31.69 31.69 31.69 31.69 ... 35.2 35.2 35.19\n",
       "    SkyTemp   (DateTime) float64 22.4 22.38 22.31 22.33 ... -2.39 -2.39 -2.5\n",
       "Attributes:\n",
       "    experiment:  Falkor19\n",
       "    sea_serial:  7417\n",
       "    sky_serial:  7409"
      ]
     },
     "execution_count": 16,
     "metadata": {},
     "output_type": "execute_result"
    }
   ],
   "source": [
    "import xarray\n",
    "ds = xarray.Dataset.from_dataframe(kt)\n",
    "ds.attrs['experiment'] = experiment\n",
    "ds.attrs['sea_serial'] = sea_serial\n",
    "ds.attrs['sky_serial'] = sky_serial\n",
    "ds"
   ]
  },
  {
   "cell_type": "code",
   "execution_count": 18,
   "metadata": {},
   "outputs": [],
   "source": [
    "ds.to_netcdf(output_path+f'/{experiment}_KT15_{sea_serial}_{sky_serial}.cdf')"
   ]
  },
  {
   "cell_type": "code",
   "execution_count": null,
   "metadata": {},
   "outputs": [],
   "source": [
    "ds = xarray.open_dataset('test.cdf')\n",
    "ds"
   ]
  }
 ],
 "metadata": {
  "kernelspec": {
   "display_name": "Python 3",
   "language": "python",
   "name": "python3"
  },
  "language_info": {
   "codemirror_mode": {
    "name": "ipython",
    "version": 3
   },
   "file_extension": ".py",
   "mimetype": "text/x-python",
   "name": "python",
   "nbconvert_exporter": "python",
   "pygments_lexer": "ipython3",
   "version": "3.6.5"
  }
 },
 "nbformat": 4,
 "nbformat_minor": 2
}
