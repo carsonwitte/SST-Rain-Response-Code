{
 "cells": [
  {
   "cell_type": "code",
   "execution_count": 1,
   "metadata": {},
   "outputs": [],
   "source": [
    "%load_ext autoreload\n",
    "%autoreload\n",
    "\n",
    "import numpy as np\n",
    "import pandas as pd\n",
    "import xarray as xr\n",
    "import numpy as np\n",
    "import datetime as datetime\n",
    "import glob\n",
    "import scipy\n",
    "import tqdm\n",
    "from matplotlib import pyplot as plt\n",
    "from matplotlib.pyplot import cm\n",
    "import matplotlib.dates as mdates\n",
    "#%matplotlib inline\n",
    "import gsw\n",
    "from subprocess import Popen, PIPE\n",
    "from time import sleep\n",
    "import os\n",
    "from dateutil import parser"
   ]
  },
  {
   "cell_type": "markdown",
   "metadata": {},
   "source": [
    "We are converting the Fortran 90 code of Bellenger's model to Python while preserving the architecture of the code so that we can tweak it once we're done. Note Fortran subroutines are similar to functions but rather than passing inputs and outputs back and forth, the subroutine has the option to modify its arguments. Whether the arguments are input-only, output-only, or inputs that can be modified before output, is set by the \"intent\" parameter at the beginning of the subroutine for each argument. "
   ]
  },
  {
   "cell_type": "code",
   "execution_count": 16,
   "metadata": {},
   "outputs": [],
   "source": [
    "#GLOBAL VARIABLES\n",
    "cpa = 1004.67  # specific heat of dry air, in J / kg / K (Businger 1982)\n",
    "cpw = 4000.    # specific heat of liquid water, in J / kg / K (DO BETTER WITH GSW?)\n",
    "grav = 9.80665 # acceleration due to gravity, m s-2 (given as 9.780326772 by Bellenger, not sure why)\n",
    "rhow = 1022.   # density of liquid water, in kg / m3 (DO BETTER WITH GSW?)\n",
    "rgas = 287.1   # specific ideal gas constant for dry air, in J / kg / K\n",
    "von = 0.4      # von Karman's \"constant\"\n",
    "eps_w = 0.62197 # molecular mass of water over molecular mass of dry air (Gill 1982 k0829, equation 3.1.13)\n",
    "beta = 0.756 / 1023.343  #Salinity expansion coefficient. Derivative with respect to practical salinity, not mass fraction of salt. Value at 25 Celsius degrees, zero pressure, practical salinity 35, from Gill (1982 k0829, table A.3.1).\n",
    "depth = 3. # nominal diurnal warm layer and fresh water lens depth, in m (Zeng and Beljaars 2005)"
   ]
  },
  {
   "cell_type": "code",
   "execution_count": 148,
   "metadata": {},
   "outputs": [],
   "source": [
    "# LEVEL 0 FUNCTIONS --- end of dependency tree\n",
    "\n",
    "def esat(t, p):\n",
    "    '''\n",
    "    Computes saturation vapor pressure of water in Pa. From Buck, 1981, J. Appl. Meteor. 20, 1527-1532, equation (8).\n",
    "    \n",
    "    Inputs:\n",
    "        t    - temperature [K]\n",
    "        p    - air pressure [Pa]\n",
    "    '''\n",
    "    esat = (1.0007 + 3.46e-8 * p) * 6.1121e2 * np.exp(17.502 * (t - 273.15) / (t - 32.18))\n",
    "    return esat\n",
    "\n",
    "def therm_expans(t):\n",
    "    '''\n",
    "    Calculate alpha, thermal expansion coefficient for seawater. Could be replaced with the GSW toolbox function\n",
    "    \n",
    "    Input:\n",
    "        t    - temperature [K]\n",
    "    '''\n",
    "    alpha = 2.1e-5 * (t - 269.95)**0.79\n",
    "    return alpha\n",
    "\n",
    "def phiw(zL):\n",
    "    '''\n",
    "    Calculate nondimensional temperature gradient function (wrote a better vectorized version of this below)\n",
    "    \n",
    "    Input:\n",
    "        zL  - z over L\n",
    "    '''\n",
    "    if zL < 0:\n",
    "        phiw = (1. - 16. * zL)**(- 0.5)\n",
    "    else:\n",
    "        phiw = 1. + (5. * zL + 4. * zL**2)/(1. + 3. * zL + 0.25 * zL**2) #(Takaya et al. 2010)\n",
    "    \n",
    "    return phiw\n",
    "\n",
    "def fV(z, rain):\n",
    "    '''\n",
    "    Calculate fraction of rain volume entering the ocean and deposited within depth \"z\"\n",
    "    Adapted from H. Bellenger 2016 Fortran code\n",
    "    \n",
    "    Inputs:\n",
    "        z     - depth [m] (z < 0)\n",
    "        rain  - rain mass flux [kg/m^2/s]\n",
    "    '''\n",
    "    a = 100 #coefficient of proportionality between raindrop radius and penetration depth (Manton, 1973)\n",
    "\n",
    "    # Schlussel et al. 1997, Table 1:\n",
    "    ζ = np.array([0.0026091, 0.0022743, 0.0015406, 0.0012281, 0.0008795, 0.00077123, 0.00057451, 0.000438, 6.7228e-5, 6.4955e-5, 4.4234e-5, 3.3906e-5, 2.7433e-6, 4.0283e-7])\n",
    "    ψ = np.array([0.60107, 0.29968, 0.5563, 1.80858, 0.2175, 0.33961, 0.96368, 0.65081, 0.5967, 2.7661, 2.2812, 2.7674, 2.6095, 6.5308])\n",
    "\n",
    "    if rain > 0:\n",
    "        rc = 0.4 #[mm]\n",
    "        z_mm = z * 1000. #[mm] and <0\n",
    "        Λ = 4.1 * (rain * 3600.)**(- 0.21) # mm-1\n",
    "        f0 = (1 + 2*Λ*rc + 0.5*(2*Λ*rc)**2 + (1/6)*(2*Λ*rc)**3) * np.exp(-2*Λ*rc) \n",
    "        dfv = np.sum(ζ * np.exp(-ψ*Λ*abs(z_mm)/100))\n",
    "        fV = -dfv*abs(z_mm) + f0\n",
    "    else:\n",
    "        fV = 0\n",
    "    \n",
    "    return fV\n"
   ]
  },
  {
   "cell_type": "code",
   "execution_count": 142,
   "metadata": {},
   "outputs": [
    {
     "data": {
      "text/plain": [
       "[<matplotlib.lines.Line2D at 0x17ccc026828>]"
      ]
     },
     "execution_count": 142,
     "metadata": {},
     "output_type": "execute_result"
    },
    {
     "data": {
      "image/png": "[encoded data removed]",
      "text/plain": [
       "<Figure size 432x288 with 1 Axes>"
      ]
     },
     "metadata": {},
     "output_type": "display_data"
    }
   ],
   "source": [
    "fVs = []\n",
    "rain = 10/3600\n",
    "zs = np.linspace(-0.5,0)\n",
    "\n",
    "for z in zs:\n",
    "    fVs.append(fV(z,rain))\n",
    "    \n",
    "plt.plot(zs,fVs)"
   ]
  },
  {
   "cell_type": "code",
   "execution_count": 137,
   "metadata": {},
   "outputs": [
    {
     "data": {
      "text/plain": [
       "0.010353106758339137"
      ]
     },
     "execution_count": 137,
     "metadata": {},
     "output_type": "execute_result"
    }
   ],
   "source": [
    "ζ = np.array([0.0026091, 0.0022743, 0.0015406, 0.0012281, 0.0008795, 0.00077123, 0.00057451, 0.000438, 6.7228e-5, 6.4955e-5, 4.4234e-5, 3.3906e-5, 2.7433e-6, 4.0283e-7])\n",
    "ψ = np.array([0.60107, 0.29968, 0.5563, 1.80858, 0.2175, 0.33961, 0.96368, 0.65081, 0.5967, 2.7661, 2.2812, 2.7674, 2.6095, 6.5308])\n",
    "\n",
    "rc = 0.4 #[mm]\n",
    "z_mm = -1\n",
    "Λ = 4.1 * (rain * 3600.)**(- 0.21) # mm-1\n",
    "\n",
    "dfv = np.sum(ζ * np.exp(-ψ*Λ*abs(z_mm)/100))\n",
    "dfv"
   ]
  },
  {
   "cell_type": "code",
   "execution_count": 138,
   "metadata": {},
   "outputs": [
    {
     "data": {
      "text/plain": [
       "0.8530532144729599"
      ]
     },
     "execution_count": 138,
     "metadata": {},
     "output_type": "execute_result"
    }
   ],
   "source": [
    "f0 = (1 + 2*Λ*rc + 0.5*(2*Λ*rc)**2 + (1/6)*(2*Λ*rc)**3) * np.exp(-2*Λ*rc)\n",
    "f0"
   ]
  },
  {
   "cell_type": "code",
   "execution_count": 96,
   "metadata": {},
   "outputs": [],
   "source": [
    "def sens_heat_rain(rain, t, q, rhoa, xlv, t_int, p):\n",
    "    '''\n",
    "    Computes heat flux due to rainfall, in W m-2, positive upward. From Gosnell et al., 1995 equations 11 and 12\n",
    "    \n",
    "    Inputs:\n",
    "        rain      - rainfall in kg m-2 s-1\n",
    "        t         - air temperature, in K\n",
    "        q         - specific humidity, in kg/kg\n",
    "        rhoa      - density of moist air  (kg / m3)\n",
    "        xlv       - latent heat of evaporation (J / kg)\n",
    "        t_int     - air-sea interface temperature, in K\n",
    "        p         - surface pressure, in Pa\n",
    "    '''\n",
    "\n",
    "    es = esat(t_int, p) * 0.98 # saturation pressure of wator vapor, in Pa, reduced for salinity, Kraus 1972 page 46\n",
    "    q_int = eps_w * (es / (p - (1. - eps_w) * es)) #specific (saturation) humidity at ocean interface\n",
    "    wetc = eps_w * xlv * q_int / (rgas * t_int**2)\n",
    "    dwat = 2.11e-5 * (t / 273.15)**1.94 #water vapour diffusivity\n",
    "    t_celsius = t - 273.15 \n",
    "    dtmp = (1. + 3.309e-3 * t_celsius - 1.44e-6 * t_celsius**2) * 0.02411 / (rhoa * cpa) #heat diffusivity\n",
    "\n",
    "    # Gosnell 1995 k0991, equation (11):\n",
    "    alfac =  1. / (1. + (wetc * xlv * dwat) / (cpa * dtmp)) # wet bulb factor\n",
    "\n",
    "    # Gosnell 1995 k0991, equation (12):\n",
    "    sens_heat_rain =  rain * alfac * cpw * (t_int - t + (q_int - q) * xlv / cpa)\n",
    "    \n",
    "    return sens_heat_rain\n"
   ]
  },
  {
   "cell_type": "code",
   "execution_count": 37,
   "metadata": {},
   "outputs": [],
   "source": [
    "def mom_flux_rain(u, rain):\n",
    "    '''\n",
    "    Compute momentum flux due to rainfall [Pa]\n",
    "    \n",
    "    Inputs:\n",
    "        u      - difference of velocity between air and sea, including gustiness [m/s]\n",
    "        rain   - rain mass flux [kg/m^2/s]\n",
    "    '''\n",
    "    \n",
    "    mom_flux_rain = 0.85 * u * rain   # (Caldwell 1971 k1001, equation (1) and 15 % reduction in speed as in paragraph 3.a, maybe adequate if u is the wind at 10 m)\n",
    "    \n",
    "    return mom_flux_rain"
   ]
  },
  {
   "cell_type": "code",
   "execution_count": 57,
   "metadata": {},
   "outputs": [],
   "source": [
    "def microlayer(tkt, tks, hlb, tau, s_subskin, al, xlv, taur, rf, rain, qcol):\n",
    "    '''\n",
    "    Compute skin temperature and salinity given subskin values and approximate thicknesses of the layers; return skin values and revised thicknesses\n",
    "    \n",
    "    Inputs:\n",
    "        tkt       - approximate thickness of thermal microlayer (cool skin) [m]\n",
    "        tks       - approximate thickness of haline microlayer [m] \n",
    "        hlb       - latent heat flux at the surface, positive upward [W/m^2]\n",
    "        tau       - wind stress, turbulent part only [Pa]\n",
    "        s_subskin - subskin salinity [ppt]\n",
    "        al        - thermal expansion coefficient [1/K]\n",
    "        xlv       - latent heat of evaporation [J/kg]\n",
    "        taur      - momentum flux due to rainfall [Pa]\n",
    "        rf        - sensible heat flux at the surface due to rainfall, positive upward [W/m^2]\n",
    "        rain      - rain mass flux [kg/m^2/s]\n",
    "        qcol      - net flux at the surface (without sensible heat flux due to rain) [W/m^2]\n",
    "    \n",
    "    Outputs:\n",
    "        dter      - delta temperature in diffusive thermal microlayer (air-sea interface minus subskin temperature) [C] (aka K cause it's a difference)\n",
    "        dser      - delta salinity in diffusive haline microlayer (air-sea interface minus subskin salinity) [ppt]\n",
    "        tkt       - revised thickness of thermal microlayer (cool skin) [m]\n",
    "        tks       - revised thickness of haline microlayer [m] \n",
    "    '''\n",
    "\n",
    "    #real, dimension(size(qcol)):: usrk, usrct, usrcs, alq\n",
    "    #real xlamx(size(qcol)) ! Saunders coefficient\n",
    "    \n",
    "    visw = 1e-6  # viscosity of water?\n",
    "    tcw = 0.6    # thermal conductivity of water\n",
    "    mu = 0.0129e-7 # molecular salinity diffusivity [m^2/s], Kraus and Businger, page 47\n",
    "    kappa = 1.49e-7 # thermal diffusivity [m^2/s]\n",
    "\n",
    "    # a and b coefficients for the power function fitting the TKE flux carried by rain: Fk = a * R**b, derived from the exact solution of Soloviev and Lukas 2006 (Schlussel et al 1997, Craeye and Schlussel 1998)\n",
    "    afk = 4e-4\n",
    "    bfk = 1.3\n",
    "\n",
    "    alq = al * (qcol + rf * (1 - fV(tkt, rain))) - beta * s_subskin * cpw * (hlb / xlv - rain * (1 - fV(tks, rain)))\n",
    "\n",
    "    usrk = (afk / rhow)**(1/3) * (rain * 3600)**(bfk / 3) #Equivalent friction velocity due to the TKE input by the penetrating raindrops Fk\n",
    "\n",
    "    # Friction velocities in the air:\n",
    "    usrct = np.sqrt((tau + (1. - fV(tkt, rain)) * taur) / rhow + (fV(0., rain) - fV(tkt, rain)) * usrk**2)\n",
    "    usrcs = np.sqrt((tau + (1. - fV(tks, rain)) * taur) / rhow + (fV(0., rain) - fV(tks, rain)) * usrk**2)\n",
    "\n",
    "    if alq > 0:\n",
    "        #Fairall 1996 982, equation (14):\n",
    "        xlamx = 6. * (1. + (16. * grav * cpw * rhow * visw**3 * alq / (tcw**2 * usrct**4 ))**0.75)**(- 1. / 3.)\n",
    "\n",
    "        #Fairall 1996 982, equation (12):\n",
    "        tkt = xlamx * visw / usrct\n",
    "        \n",
    "        # From Saunders 1967 (4)\n",
    "        tks = xlamx * mu * (kappa / mu)**(2. / 3.) * visw * cpw * rhow / (tcw * usrcs)\n",
    "       \n",
    "    else:\n",
    "        xlamx = 6 # prevent excessive warm skins\n",
    "        tkt = min(.01, xlamx * visw / usrct) # Limit tkt\n",
    "        tks = min(.001, xlamx * mu * (kappa / mu)**(2. / 3.) * visw * cpw * rhow / (tcw * usrcs))\n",
    "\n",
    "    # Fairall 1996 982, equation (13):\n",
    "    dter = - (qcol + rf * (1 - fV(tkt, rain))) * tkt / tcw\n",
    "\n",
    "    dser = s_subskin * (hlb / xlv - rain * (1 - fV(tks, rain))) * tks / (rhow * mu) # eq. fresh skin\n",
    "\n",
    "    return dter, dser, tkt, tks\n"
   ]
  },
  {
   "cell_type": "code",
   "execution_count": 41,
   "metadata": {},
   "outputs": [],
   "source": [
    "def near_surface(ds_ns, dt_ns, tau, taur, hlb, rhoa, xlv, dtime, t_ocean_1, s1, rain, q_pwp, depth_1):\n",
    "    '''\n",
    "    Calculate heat and freshwater budget for near-surface layer of the ocean (get subskin T & S from foundation T & S plus fluxes)\n",
    "    \n",
    "    Inputs:\n",
    "        tau        - turbulent wind stress at the surface [Pa]\n",
    "        taur       - momentum flux due to rainfall [Pa]\n",
    "        hlb        - turbulent latent heat flux [W/m^2]\n",
    "        rhoa       - density of moist air  [kg/m^3]\n",
    "        xlv        - latent heat of evaporation [J/kg]\n",
    "        dtime      - time step [s]\n",
    "        t_ocean_1  - input sea temperature, at depth_1 [K]\n",
    "        s1         - salinity at depth_1 [ppt]\n",
    "        rain       - rain mass flux [kg/m^2/s]\n",
    "        q_pwp      - net flux absorbed by the warm layer (part of the solar flux absorbed at \"depth\"), minus surface fluxes, in [W m^2]\n",
    "        depth_1    - depth of t_ocean_1 and s1 measurements\n",
    "        \n",
    "    Outputs:\n",
    "        al         - thermal expansion coefficient [1/K]\n",
    "        ds_ns      - \"delta salinity near surface\" [ppt]. Salinity variation in the near-surface turbulent layer. That is subskin salinity minus foundation salinity.\n",
    "        dt_ns      - \"delta temperature near surface\" [K aka C]. Temperature variation in the near-surface turbulent layer. That is subskin temperature minus foundation temperature.\n",
    "        t_subskin  - subskin temperature, in K\n",
    "        s_subskin  - subskin salinity, in ppt\n",
    "    '''\n",
    "    khor = 1. / 1.5e4  # Parameter for the lens spread, in m-1. Inverse of the size of the lens.\n",
    "    umax = 15.\n",
    "    fact = 1.\n",
    "\n",
    "    # Temperature and salinity profiles change with wind:\n",
    "    u = 28. * np.sqrt(tau / rhoa)\n",
    "\n",
    "    # assign value for eta based on wind speed and sign of temperature gradient \n",
    "    # just using if statements for now as we're naively looping line by line\n",
    "    if dt_ns < 0:\n",
    "        if u >= umax:\n",
    "            eta = 1. / fact\n",
    "        elif u <= 2:\n",
    "            eta = 2. / (fact * umax)\n",
    "        else: #for 2 < u < umax\n",
    "            eta = u / (fact * umax)\n",
    "    else: #outside of fresh layers, leave eta constant\n",
    "        eta = 0.3\n",
    "\n",
    "    if depth_1 < depth: #if the depth of the measurements is within the nominal warm/fresh layer thickness, scale the \"foundation\" temperature to the assumed depth\n",
    "        correction = 1. - (depth_1 / depth)**eta #(neglecting microlayer thickness compared to depth_1 and depth)\n",
    "        t_fnd = t_ocean_1 - dt_ns * correction\n",
    "        s_fnd = s1 - ds_ns * correction\n",
    "    else: #otherwise assume well-mixed below the foundation depth\n",
    "        t_fnd = t_ocean_1\n",
    "        s_fnd = s1\n",
    "\n",
    "    al = therm_expans(t_fnd)\n",
    "\n",
    "    # Bellenger 2017 k0976, equation (13):\n",
    "    buoyf = al * grav / (rhow * cpw) * q_pwp - beta * s_fnd * grav * (hlb / xlv - rain) / rhow\n",
    "\n",
    "    usrc = np.sqrt((tau + taur) / rhow)\n",
    "    drho = rhow * (- al * dt_ns + beta * ds_ns)\n",
    "\n",
    "    # Case of stable stratification and negative flux, Bellenger 2017  k0976, equation (15):\n",
    "    if buoyf < 0 and drho < 0:\n",
    "        buoyf = np.sqrt(- eta * grav / (5. * depth * rhow) * drho) * usrc**2\n",
    "    elif buoyf == 0:\n",
    "        buoyf = np.finfo(np.float64).tiny #smallest possible non-zero positive number to avoid divide-by-zero issues\n",
    "\n",
    "    Lmo = usrc**3 / (von * buoyf)\n",
    "\n",
    "    # Equation (14) for temperature. Implicit scheme for time integration:\n",
    "    # \\Delta T_{i + 1} - \\Delta T_i = \\delta t (Bt + At \\Delta T_{i + 1})\n",
    "    At = - (eta + 1.) * von * usrc / (depth * phiw(depth / Lmo))\n",
    "\n",
    "    # Lens horizontal spreading:\n",
    "    if drho < 0 and ds_ns < 0:\n",
    "        At = At - (eta + 1.) * khor * np.sqrt(depth * grav * abs(drho) / rhow)\n",
    "\n",
    "    Bt = q_pwp / (depth * rhow * cpw * eta / (eta + 1.))\n",
    "    dt_ns = (dtime * Bt + dt_ns) / (1 - dtime * At)\n",
    "\n",
    "    # Equation (14) for salinity:\n",
    "    # \\frac{\\partial \\Delta S}{\\partial t} = (\\Delta S + S_\\mathrm{fnd}) B_S + A_S \\Delta S\n",
    "    As = - (eta + 1.) * von * usrc / (depth * phiw(depth / Lmo))\n",
    "\n",
    "    # Lens horizontal spreading:\n",
    "    if drho < 0 and ds_ns < 0:\n",
    "        As = As - (eta + 1.) * khor * np.sqrt(depth * grav * abs(drho) / rhow)\n",
    "\n",
    "    Bs = (hlb / xlv - rain) * (eta + 1.) / (depth * rhow * eta)\n",
    "\n",
    "    # Implicit scheme for time integration:\n",
    "    ds_ns = (dtime * Bs * s_fnd + ds_ns) / (1 - dtime * (As + Bs))\n",
    "\n",
    "    t_subskin = t_fnd + dt_ns\n",
    "    s_subskin = s_fnd + ds_ns\n",
    "    \n",
    "    return al, dt_ns, ds_ns, t_subskin, s_subskin\n"
   ]
  },
  {
   "cell_type": "code",
   "execution_count": 11,
   "metadata": {},
   "outputs": [],
   "source": [
    "def bulk_flux(u, t_ocean_1, s1, rain, hf, hlb, rnl, tau, rhoa, xlv, rf, dtime, rns, ds_ns, dt_ns, depth_1, jcool, jwarm, rain_effect):\n",
    "    '''\n",
    "    Bulk flux loop similar to COARE3.5 but with rain physics added\n",
    "    \n",
    "    Inputs:\n",
    "        u           - wind speed relative to the sea surface [m/s] (i. e. taking current vector into account)\n",
    "        t_ocean_1   - input sea temperature, at depth_1 [K]\n",
    "        s1          - salinity at depth_1 [ppt]\n",
    "        rain        - rain mass flux [kg/m^2/s]\n",
    "        hf          - turbulent sensible heat flux, positive upward [W/m^2]\n",
    "        hlb         - latent heat flux at the surface, positive upward [W/m^2]\n",
    "        rnl         - net longwave radiation, positive upward [W/m^2]\n",
    "        tau         - wind stress, turbulent part only [Pa]\n",
    "        rhoa        - density of moist air  [kg/m^3]\n",
    "        xlv         - latent heat of evaporation (J / kg)\n",
    "        rf          - sensible heat flux at the surface due to rainfall, positive upward [W/m^2]\n",
    "        dtime       - time step [s]\n",
    "        rnl         - net shortwave radiation [W/m^2]\n",
    "        dt_ns       - delta temperature near surface (subskin minus foundation temperature) [C] (aka K)\n",
    "        ds_ns       - delta salinity near surface (subskin minus foundation salinity) [ppt]\n",
    "        depth_1     - depth of bulk measurement [m]\n",
    "        jcool       - boolean flag to turn on skin-layer physics\n",
    "        jwarm       - boolean flag to turn on warm-layer physics\n",
    "        rain_effect - boolean flag to turn on rain physics\n",
    "\n",
    "    Outputs:\n",
    "        tkt       - thickness of thermal microlayer (cool skin) [m]\n",
    "        tks       - thickness of haline microlayer [m] \n",
    "        taur      - momentum flux due to rain [Pa]\n",
    "        dter      - delta temperature in diffusive thermal microlayer (air-sea interface minus subskin temperature) [C] (aka K cause it's a difference)\n",
    "        dser      - delta salinity in diffusive haline microlayer (air-sea interface minus subskin salinity) [ppt]\n",
    "        t_int     - interface temperature, [K]\n",
    "        s_int     - interface salinity [ppt]\n",
    "        dt_ns     - updated delta temperature near surface (subskin minus foundation temperature) [C] (aka K cause it's a difference)\n",
    "        ds_ns     - updated delta salinity near surface (subskin minus foundation salinity) [ppt]\n",
    "\n",
    "    '''\n",
    "    \n",
    "    #Soloviev solar absorption profile\n",
    "    fxp = 1. - (0.28 * 0.014 + 0.27 * 0.357 * (1. - np.exp(- depth / 0.357)) + .45 * 12.82 * (1.- np.exp(- depth / 12.82))) / depth\n",
    "    \n",
    "    tau_0 = 1e-3 # in N m-2\n",
    "\n",
    "    #calculate rain momentum flux if rain physics are turned on, or set to zero if they're not\n",
    "    if rain_effect:\n",
    "        taur = mom_flux_rain(u, rain)\n",
    "    else: #Bellenger had another piece of this if statement just setting up a zero value... I don't see the use: \"if (jwarm .or. jcool) null_array = 0.\"\n",
    "        taur = 0.\n",
    "\n",
    "    tau_with_min = tau + tau_0 * (1 - np.exp(- tau_0 / tau))\n",
    "    \n",
    "    #-----NEAR SURFACE LAYER-----\n",
    "    if jwarm:\n",
    "        if rain_effect:\n",
    "            q_pwp = fxp * rns - (hf + hlb + rnl + rf)\n",
    "            [al, dt_ns, ds_ns, t_subskin, s_subskin] = near_surface(ds_ns, dt_ns, tau, taur, hlb, rhoa, xlv, dtime, t_ocean_1, s1, rain, q_pwp, depth_1)\n",
    "        else:\n",
    "            q_pwp = fxp * rns - (hf + hlb + rnl)\n",
    "            [al, dt_ns, ds_ns, t_subskin, s_subskin] = near_surface(ds_ns, dt_ns, tau, taur, hlb, rhoa, xlv, dtime, t_ocean_1, s1, 0, q_pwp, depth_1)\n",
    "    else:\n",
    "        al = therm_expans(t_ocean_1)\n",
    "        t_subskin = t_ocean_1\n",
    "        s_subskin = s1\n",
    "        \n",
    "    #-----SKIN LAYER-----\n",
    "    if jcool:\n",
    "        # First guess:\n",
    "        tkt = 0.001\n",
    "        tks = 5e-4\n",
    "\n",
    "        for i in np.arange(0,3): #just calls the microlayer loop three times, updating the input parameters based on the outputs\n",
    "            # Cool skin\n",
    "            dels = rns * (0.065 + 11. * tkt - 6.6e-5 / tkt * (1. - np.exp(- tkt / 8e-4))) # equation 16 Ohlmann\n",
    "            qcol = rnl + hf + hlb - dels\n",
    "            if rain_effect:\n",
    "                [dter, dser, tkt, tks] = microlayer(tkt, tks, hlb, tau_with_min, s_subskin, al, xlv, taur, rf, rain, qcol)\n",
    "            else:\n",
    "                [dter, dser, tkt, tks] = microlayer(tkt, tks, hlb, tau_with_min, s_subskin, al, xlv, taur, 0, 0, qcol)\n",
    "    else:\n",
    "        tkt = 0.\n",
    "        tks = 0.\n",
    "        dter = 0.\n",
    "        dser = 0.\n",
    "\n",
    "    t_int = t_subskin + dter\n",
    "    s_int = s_subskin + dser\n",
    "    \n",
    "    return tkt, tks, taur, dter, dser, t_int, s_int, ds_ns, dt_ns\n"
   ]
  },
  {
   "cell_type": "code",
   "execution_count": 76,
   "metadata": {},
   "outputs": [],
   "source": [
    "def ocean_skin(time, u, t_ocean_1, s1, t, q, rsds, p, rain, hf, hlb, rnl, tau, depth_1, jcool, jwarm, rain_effect):\n",
    "    '''\n",
    "    Calculate ocean skin temperature including cool-skin, warm layer, and rain physics following Bellenger et al., 2016\n",
    "    \n",
    "    Inputs:\n",
    "        time      - elapsed time in seconds\n",
    "        u         - wind speed relative to the sea surface, i. e. taking current vector into account. In m s-1.\n",
    "        t_ocean_1 - input sea temperature, at depth_1, in C\n",
    "        s1        - salinity at depth_1, in ppt\n",
    "        t         - air temperature, in C\n",
    "        q         - specific humidity, in kg/kg\n",
    "        rsds      - surface downwelling shortwave radiation, in W / m2\n",
    "        p         - surface pressure, in hPa (aka mbar)\n",
    "        rain      - rainfall in mm/hr\n",
    "        hf        - turbulent sensible heat flux, in W m-2\n",
    "        hlb       - latent heat flux at the surface (W m-2)\n",
    "        rnl       - net longwave radiation, positive upward, in W m-2\n",
    "        tau       - wind stress, turbulent part only, in Pa\n",
    "        depth_1   - depth of bulk measurement\n",
    "        jcool       - boolean flag to turn on skin-layer physics\n",
    "        jwarm       - boolean flag to turn on warm-layer physics\n",
    "        rain_effect - boolean flag to turn on rain physics\n",
    "   \n",
    "    Outputs:\n",
    "        t_int     - air-sea interface temperature, in C\n",
    "        s_int     - air-sea interface salinity, in ppt\n",
    "        tkt       - thermal molecular diffusion microlayer (cool skin) thickness in m\n",
    "        tks       - haline molecular diffusion microlayer thickness in m\n",
    "        dter      - delta temperature in diffusive thermal microlayer (air-sea interface minus subskin temperature) in C\n",
    "        dser      - delta salinity in diffusive haline microlayer (air-sea interface minus subskin salinity) in ppt\n",
    "        dt_ns     - delta temperature near surface (subskin minus foundation temperature) in C\n",
    "        ds_ns     - delta salinity near surface (subskin minus foundation salinity) in ppt\n",
    "        rf        - rain sensible heat flux, in W m-2\n",
    "        taur      - momentum flux due to rain, in Pa\n",
    "\n",
    "    '''\n",
    "    #----INITIAL VALUES----\n",
    "    t_ocean_1 = t_ocean_1 + 273.15 # Celsius degrees to K\n",
    "    t_int = t_ocean_1[0]              # initial interface temp guess by setting to input temp\n",
    "    ds_ns = 0.\n",
    "    dt_ns = 0.\n",
    "    old_time = 0.  # in s\n",
    "    \n",
    "    #----CONVERSION AND SETUP---\n",
    "    albedo = 0.055 # daily average\n",
    "    \n",
    "    t = t + 273.15 # Celsius degrees to K\n",
    "    p = p * 100.   # convert hPa to Pa\n",
    "    rain  = rain / 3600. # convert mm/h -> kg m-2 s-1\n",
    "    rhoa = p / (rgas * t * (1. + (1. / eps_w - 1.) * q)) #calculate density of moist air (kg / m3)\n",
    "\n",
    "    #the following is structured as a loop in fortran that goes line by line of data (long-term I would prefer to pass full arrays rather than looping)\n",
    "    #initialize a bunch of empty lists to fill as we go through the loop (terrible speed-wise but I'm trying to reproduce as exactly as possible before optimizing)\n",
    "    tkt_out = []\n",
    "    tks_out = []\n",
    "    taur_out = []\n",
    "    dter_out = []\n",
    "    dser_out = []\n",
    "    t_int_out = []\n",
    "    s_int_out = []\n",
    "    ds_ns_out = []\n",
    "    dt_ns_out = []\n",
    "    rf_out = []\n",
    "    \n",
    "    for idx in tqdm.tqdm(np.arange(len(time))):\n",
    "        xlv = (2.501 - 0.00237 * (t_int - 273.15)) * 1e6  #calculate latent heat of evaporation for this t_int (J / kg)\n",
    "        \n",
    "        rf = sens_heat_rain(rain[idx], t[idx], q[idx], rhoa[idx], xlv, t_int, p[idx]) #Gosnell 95 rain sensible heat flux\n",
    "\n",
    "        dtime = time[idx] - old_time\n",
    "        rns = (1. - albedo) * rsds[idx]\n",
    "        \n",
    "        #note that ds_ns and dt_ns are both inputs and outputs to this function, and will thus update every loop\n",
    "        [tkt, tks, taur, dter, dser, t_int, s_int, ds_ns, dt_ns] = bulk_flux(u[idx], t_ocean_1[idx], s1[idx], rain[idx], hf[idx], hlb[idx], rnl[idx], tau[idx], rhoa[idx], xlv, rf, dtime, rns, ds_ns, dt_ns, depth_1, jcool, jwarm, rain_effect)\n",
    "\n",
    "        tkt_out.append(tkt)\n",
    "        tks_out.append(tks)\n",
    "        taur_out.append(taur)\n",
    "        dter_out.append(dter)\n",
    "        dser_out.append(dser)\n",
    "        t_int_out.append(t_int)\n",
    "        s_int_out.append(s_int)\n",
    "        ds_ns_out.append(ds_ns)\n",
    "        dt_ns_out.append(dt_ns)\n",
    "        rf_out.append(rf)\n",
    "\n",
    "        old_time = time[idx] #update the \"old_time\" for the next iteration\n",
    "    \n",
    "    return t_int_out, s_int_out, tkt_out, tks_out, dter_out, dser_out, dt_ns_out, ds_ns_out, rf_out, taur_out\n"
   ]
  },
  {
   "cell_type": "markdown",
   "metadata": {},
   "source": [
    "# Testing against Bellenger example dataset"
   ]
  },
  {
   "cell_type": "code",
   "execution_count": 98,
   "metadata": {},
   "outputs": [
    {
     "data": {
      "text/html": [
       "<div>\n",
       "<style scoped>\n",
       "    .dataframe tbody tr th:only-of-type {\n",
       "        vertical-align: middle;\n",
       "    }\n",
       "\n",
       "    .dataframe tbody tr th {\n",
       "        vertical-align: top;\n",
       "    }\n",
       "\n",
       "    .dataframe thead th {\n",
       "        text-align: right;\n",
       "    }\n",
       "</style>\n",
       "<table border=\"1\" class=\"dataframe\">\n",
       "  <thead>\n",
       "    <tr style=\"text-align: right;\">\n",
       "      <th></th>\n",
       "      <th>time</th>\n",
       "      <th>U</th>\n",
       "      <th>T_fnd</th>\n",
       "      <th>T_air</th>\n",
       "      <th>q</th>\n",
       "      <th>rsds</th>\n",
       "      <th>p</th>\n",
       "      <th>Rain</th>\n",
       "      <th>hf</th>\n",
       "      <th>hlb</th>\n",
       "      <th>rnl</th>\n",
       "      <th>tau</th>\n",
       "      <th>s1</th>\n",
       "    </tr>\n",
       "  </thead>\n",
       "  <tbody>\n",
       "    <tr>\n",
       "      <th>0</th>\n",
       "      <td>0</td>\n",
       "      <td>2</td>\n",
       "      <td>26.53</td>\n",
       "      <td>23.95</td>\n",
       "      <td>0.01543</td>\n",
       "      <td>0.0</td>\n",
       "      <td>1012</td>\n",
       "      <td>8.000000e-15</td>\n",
       "      <td>8.669735</td>\n",
       "      <td>54.371128</td>\n",
       "      <td>57.381119</td>\n",
       "      <td>0.00655</td>\n",
       "      <td>35</td>\n",
       "    </tr>\n",
       "    <tr>\n",
       "      <th>1</th>\n",
       "      <td>1800</td>\n",
       "      <td>2</td>\n",
       "      <td>26.53</td>\n",
       "      <td>23.95</td>\n",
       "      <td>0.01543</td>\n",
       "      <td>0.0</td>\n",
       "      <td>1012</td>\n",
       "      <td>8.000000e-08</td>\n",
       "      <td>8.632769</td>\n",
       "      <td>54.243961</td>\n",
       "      <td>57.335712</td>\n",
       "      <td>0.00655</td>\n",
       "      <td>35</td>\n",
       "    </tr>\n",
       "    <tr>\n",
       "      <th>2</th>\n",
       "      <td>3600</td>\n",
       "      <td>2</td>\n",
       "      <td>26.53</td>\n",
       "      <td>23.95</td>\n",
       "      <td>0.01543</td>\n",
       "      <td>0.0</td>\n",
       "      <td>1012</td>\n",
       "      <td>8.000000e-03</td>\n",
       "      <td>8.589565</td>\n",
       "      <td>54.095417</td>\n",
       "      <td>57.282635</td>\n",
       "      <td>0.00654</td>\n",
       "      <td>35</td>\n",
       "    </tr>\n",
       "    <tr>\n",
       "      <th>3</th>\n",
       "      <td>5400</td>\n",
       "      <td>2</td>\n",
       "      <td>26.53</td>\n",
       "      <td>23.95</td>\n",
       "      <td>0.01543</td>\n",
       "      <td>0.0</td>\n",
       "      <td>1012</td>\n",
       "      <td>8.000000e+00</td>\n",
       "      <td>8.353017</td>\n",
       "      <td>53.290817</td>\n",
       "      <td>56.989632</td>\n",
       "      <td>0.00652</td>\n",
       "      <td>35</td>\n",
       "    </tr>\n",
       "    <tr>\n",
       "      <th>4</th>\n",
       "      <td>7200</td>\n",
       "      <td>2</td>\n",
       "      <td>26.53</td>\n",
       "      <td>23.95</td>\n",
       "      <td>0.01543</td>\n",
       "      <td>0.0</td>\n",
       "      <td>1012</td>\n",
       "      <td>8.000000e+01</td>\n",
       "      <td>8.015182</td>\n",
       "      <td>52.181629</td>\n",
       "      <td>56.549805</td>\n",
       "      <td>0.00650</td>\n",
       "      <td>35</td>\n",
       "    </tr>\n",
       "  </tbody>\n",
       "</table>\n",
       "</div>"
      ],
      "text/plain": [
       "   time  U  T_fnd  T_air        q  rsds     p          Rain        hf  \\\n",
       "0     0  2  26.53  23.95  0.01543   0.0  1012  8.000000e-15  8.669735   \n",
       "1  1800  2  26.53  23.95  0.01543   0.0  1012  8.000000e-08  8.632769   \n",
       "2  3600  2  26.53  23.95  0.01543   0.0  1012  8.000000e-03  8.589565   \n",
       "3  5400  2  26.53  23.95  0.01543   0.0  1012  8.000000e+00  8.353017   \n",
       "4  7200  2  26.53  23.95  0.01543   0.0  1012  8.000000e+01  8.015182   \n",
       "\n",
       "         hlb        rnl      tau  s1  \n",
       "0  54.371128  57.381119  0.00655  35  \n",
       "1  54.243961  57.335712  0.00655  35  \n",
       "2  54.095417  57.282635  0.00654  35  \n",
       "3  53.290817  56.989632  0.00652  35  \n",
       "4  52.181629  56.549805  0.00650  35  "
      ]
     },
     "execution_count": 98,
     "metadata": {},
     "output_type": "execute_result"
    }
   ],
   "source": [
    "#open Bellenger input csv\n",
    "test = pd.read_csv('../Bellenger Model on Robin/ocean-skin-master/Tests/test_Hugo_B_flux_input.csv',skiprows=2,usecols=[0,1,2,3,4,5,6,7,8,9,10,11])\n",
    "test['s1'] = np.ones_like(test.time)*35\n",
    "test.head()"
   ]
  },
  {
   "cell_type": "code",
   "execution_count": 99,
   "metadata": {},
   "outputs": [
    {
     "name": "stderr",
     "output_type": "stream",
     "text": [
      "  0%|                                                                                          | 0/144 [00:00<?, ?it/s]C:\\ProgramData\\Anaconda3\\lib\\site-packages\\ipykernel_launcher.py:42: RuntimeWarning: invalid value encountered in sqrt\n",
      "C:\\ProgramData\\Anaconda3\\lib\\site-packages\\ipykernel_launcher.py:43: RuntimeWarning: invalid value encountered in sqrt\n",
      "100%|██████████████████████████████████████████████████████████████████████████████| 144/144 [00:00<00:00, 1870.08it/s]\n"
     ]
    }
   ],
   "source": [
    "[t_int, s_int, tkt, tks, dter, dser, dt_ns, ds_ns, rf, taur] = ocean_skin(test.time, test.U, test.T_fnd, test.s1, test.T_air, test.q, test.rsds, test.p, test.Rain, test.hf, test.hlb, test.rnl, test.tau, depth_1=3, jcool=True, jwarm=True, rain_effect=True)"
   ]
  },
  {
   "cell_type": "code",
   "execution_count": 88,
   "metadata": {},
   "outputs": [
    {
     "data": {
      "text/html": [
       "<div>\n",
       "<style scoped>\n",
       "    .dataframe tbody tr th:only-of-type {\n",
       "        vertical-align: middle;\n",
       "    }\n",
       "\n",
       "    .dataframe tbody tr th {\n",
       "        vertical-align: top;\n",
       "    }\n",
       "\n",
       "    .dataframe thead th {\n",
       "        text-align: right;\n",
       "    }\n",
       "</style>\n",
       "<table border=\"1\" class=\"dataframe\">\n",
       "  <thead>\n",
       "    <tr style=\"text-align: right;\">\n",
       "      <th></th>\n",
       "      <th>t_int</th>\n",
       "      <th>tkt</th>\n",
       "      <th>tks</th>\n",
       "      <th>ds_ns</th>\n",
       "      <th>dt_ns</th>\n",
       "      <th>dter</th>\n",
       "      <th>rf</th>\n",
       "      <th>taur</th>\n",
       "      <th>dser</th>\n",
       "      <th>S_int</th>\n",
       "    </tr>\n",
       "    <tr>\n",
       "      <th>time</th>\n",
       "      <th></th>\n",
       "      <th></th>\n",
       "      <th></th>\n",
       "      <th></th>\n",
       "      <th></th>\n",
       "      <th></th>\n",
       "      <th></th>\n",
       "      <th></th>\n",
       "      <th></th>\n",
       "      <th></th>\n",
       "    </tr>\n",
       "  </thead>\n",
       "  <tbody>\n",
       "    <tr>\n",
       "      <th>0.0</th>\n",
       "      <td>26.17398</td>\n",
       "      <td>0.001774</td>\n",
       "      <td>0.000370</td>\n",
       "      <td>0.000000</td>\n",
       "      <td>0.000000</td>\n",
       "      <td>-0.356026</td>\n",
       "      <td>3.356369e-14</td>\n",
       "      <td>3.777778e-18</td>\n",
       "      <td>0.218918</td>\n",
       "      <td>35.21892</td>\n",
       "    </tr>\n",
       "    <tr>\n",
       "      <th>1800.0</th>\n",
       "      <td>26.16629</td>\n",
       "      <td>0.001774</td>\n",
       "      <td>0.000370</td>\n",
       "      <td>0.000213</td>\n",
       "      <td>-0.008216</td>\n",
       "      <td>-0.355491</td>\n",
       "      <td>3.110839e-07</td>\n",
       "      <td>3.777778e-11</td>\n",
       "      <td>0.218383</td>\n",
       "      <td>35.21860</td>\n",
       "    </tr>\n",
       "    <tr>\n",
       "      <th>3600.0</th>\n",
       "      <td>26.15720</td>\n",
       "      <td>0.001773</td>\n",
       "      <td>0.000370</td>\n",
       "      <td>0.000428</td>\n",
       "      <td>-0.018273</td>\n",
       "      <td>-0.354529</td>\n",
       "      <td>3.105496e-02</td>\n",
       "      <td>3.777778e-06</td>\n",
       "      <td>0.196304</td>\n",
       "      <td>35.19673</td>\n",
       "    </tr>\n",
       "    <tr>\n",
       "      <th>5400.0</th>\n",
       "      <td>26.05948</td>\n",
       "      <td>0.001395</td>\n",
       "      <td>0.000346</td>\n",
       "      <td>-0.335710</td>\n",
       "      <td>-0.181732</td>\n",
       "      <td>-0.288787</td>\n",
       "      <td>3.099174e+01</td>\n",
       "      <td>3.777778e-03</td>\n",
       "      <td>-3.215549</td>\n",
       "      <td>31.44874</td>\n",
       "    </tr>\n",
       "    <tr>\n",
       "      <th>7200.0</th>\n",
       "      <td>25.73071</td>\n",
       "      <td>0.000957</td>\n",
       "      <td>0.000287</td>\n",
       "      <td>-3.186798</td>\n",
       "      <td>-0.587002</td>\n",
       "      <td>-0.212277</td>\n",
       "      <td>3.031102e+02</td>\n",
       "      <td>3.777778e-02</td>\n",
       "      <td>-7.046269</td>\n",
       "      <td>24.76693</td>\n",
       "    </tr>\n",
       "  </tbody>\n",
       "</table>\n",
       "</div>"
      ],
      "text/plain": [
       "           t_int       tkt       tks     ds_ns     dt_ns      dter  \\\n",
       "time                                                                 \n",
       "0.0     26.17398  0.001774  0.000370  0.000000  0.000000 -0.356026   \n",
       "1800.0  26.16629  0.001774  0.000370  0.000213 -0.008216 -0.355491   \n",
       "3600.0  26.15720  0.001773  0.000370  0.000428 -0.018273 -0.354529   \n",
       "5400.0  26.05948  0.001395  0.000346 -0.335710 -0.181732 -0.288787   \n",
       "7200.0  25.73071  0.000957  0.000287 -3.186798 -0.587002 -0.212277   \n",
       "\n",
       "                  rf          taur      dser     S_int  \n",
       "time                                                    \n",
       "0.0     3.356369e-14  3.777778e-18  0.218918  35.21892  \n",
       "1800.0  3.110839e-07  3.777778e-11  0.218383  35.21860  \n",
       "3600.0  3.105496e-02  3.777778e-06  0.196304  35.19673  \n",
       "5400.0  3.099174e+01  3.777778e-03 -3.215549  31.44874  \n",
       "7200.0  3.031102e+02  3.777778e-02 -7.046269  24.76693  "
      ]
     },
     "execution_count": 88,
     "metadata": {},
     "output_type": "execute_result"
    }
   ],
   "source": [
    "flag3.head()"
   ]
  },
  {
   "cell_type": "code",
   "execution_count": 90,
   "metadata": {},
   "outputs": [],
   "source": [
    "#flag2 = pd.read_csv('../Bellenger Model On Robin/ocean-skin-master/Tests/test_Hugo_B_flux_output_flag2.csv',sep = '\\s+', header=0,skiprows=1, index_col=0)\n",
    "flag3 = pd.read_csv('../Bellenger Model On Robin/ocean-skin-master/Tests/test_Hugo_B_flux_output_flag3.csv',sep = '\\s+', header=0,skiprows=1, index_col=0)"
   ]
  },
  {
   "cell_type": "code",
   "execution_count": 147,
   "metadata": {},
   "outputs": [
    {
     "name": "stderr",
     "output_type": "stream",
     "text": [
      "100%|██████████████████████████████████████████████████████████████████████████████| 144/144 [00:00<00:00, 1617.96it/s]\n"
     ]
    },
    {
     "data": {
      "image/png": "[encoded data removed]",
      "text/plain": [
       "<Figure size 864x1440 with 10 Axes>"
      ]
     },
     "metadata": {},
     "output_type": "display_data"
    }
   ],
   "source": [
    "[t_int, s_int, tkt, tks, dter, dser, dt_ns, ds_ns, rf, taur] = ocean_skin(test.time, test.U, test.T_fnd, test.s1, test.T_air, test.q, test.rsds, test.p, test.Rain, test.hf, test.hlb, test.rnl, test.tau, depth_1=3, jcool=True, jwarm=True, rain_effect=True)\n",
    "\n",
    "fig,axx = plt.subplots(nrows=10,figsize=(12,20))\n",
    "\n",
    "axx[0].plot(flag3.t_int)\n",
    "axx[0].plot(flag3.index, np.array(t_int) - 273.15)\n",
    "axx[0].set_title('t_int')\n",
    "\n",
    "axx[1].plot(flag3.S_int)\n",
    "axx[1].plot(flag3.index, np.array(s_int))\n",
    "axx[1].set_title('s_int')\n",
    "\n",
    "axx[2].plot(flag3.tkt)\n",
    "axx[2].plot(flag3.index, np.array(tkt))\n",
    "axx[2].set_title('tkt')\n",
    "\n",
    "axx[3].plot(flag3.tks)\n",
    "axx[3].plot(flag3.index, np.array(tks))\n",
    "axx[3].set_title('tks')\n",
    "\n",
    "axx[4].plot(flag3.dter)\n",
    "axx[4].plot(flag3.index, np.array(dter))\n",
    "axx[4].set_title('dter')\n",
    "\n",
    "axx[5].plot(flag3.dser)\n",
    "axx[5].plot(flag3.index, np.array(dser))\n",
    "axx[5].set_title('dser')\n",
    "\n",
    "axx[6].plot(flag3.dt_ns)\n",
    "axx[6].plot(flag3.index, np.array(dt_ns))\n",
    "axx[6].set_title('dt_ns')\n",
    "\n",
    "axx[7].plot(flag3.ds_ns)\n",
    "axx[7].plot(flag3.index, np.array(ds_ns))\n",
    "axx[7].set_title('ds_ns')\n",
    "\n",
    "axx[8].plot(flag3.rf)\n",
    "axx[8].plot(flag3.index, np.array(rf))\n",
    "axx[8].set_title('rf')\n",
    "\n",
    "axx[9].plot(flag3.taur)\n",
    "axx[9].plot(flag3.index, np.array(taur))\n",
    "axx[9].set_title('taur')\n",
    "\n",
    "plt.legend(['Bellenger Fortran Code',\n",
    "            'Witte Python Replication'])\n",
    "\n",
    "plt.tight_layout()"
   ]
  },
  {
   "cell_type": "code",
   "execution_count": 1,
   "metadata": {},
   "outputs": [
    {
     "ename": "NameError",
     "evalue": "name 't_int' is not defined",
     "output_type": "error",
     "traceback": [
      "\u001b[1;31m---------------------------------------------------------------------------\u001b[0m",
      "\u001b[1;31mNameError\u001b[0m                                 Traceback (most recent call last)",
      "\u001b[1;32m<ipython-input-1-6fbb6c28cba6>\u001b[0m in \u001b[0;36m<module>\u001b[1;34m()\u001b[0m\n\u001b[1;32m----> 1\u001b[1;33m \u001b[0mt_int\u001b[0m\u001b[1;33m\u001b[0m\u001b[0m\n\u001b[0m",
      "\u001b[1;31mNameError\u001b[0m: name 't_int' is not defined"
     ]
    }
   ],
   "source": [
    "t_int"
   ]
  },
  {
   "cell_type": "code",
   "execution_count": 157,
   "metadata": {},
   "outputs": [
    {
     "data": {
      "text/plain": [
       "Text(0, 0.5, 'Witte Python Output')"
      ]
     },
     "execution_count": 157,
     "metadata": {},
     "output_type": "execute_result"
    },
    {
     "data": {
      "image/png": "[encoded data removed]",
      "text/plain": [
       "<Figure size 360x360 with 1 Axes>"
      ]
     },
     "metadata": {},
     "output_type": "display_data"
    }
   ],
   "source": [
    "plt.subplots(figsize=(5,5))\n",
    "\n",
    "space = np.linspace(flag3.t_int.min()-0.1, flag3.t_int.max()+0.1)\n",
    "plt.plot(space,space,'k')\n",
    "plt.scatter(flag3.t_int, np.array(t_int) - 273.15)\n",
    "plt.xlabel('Bellenger Fortran Output')\n",
    "plt.ylabel('Witte Python Output')"
   ]
  },
  {
   "cell_type": "markdown",
   "metadata": {},
   "source": [
    "## Previously written functions"
   ]
  },
  {
   "cell_type": "code",
   "execution_count": null,
   "metadata": {},
   "outputs": [],
   "source": [
    "def Tδ_now(Qlat, Qsens, Qlw, Qsw, Qrain, d, Td_now, Td_previous, Tδ_previous, Δt, U, ustar):\n",
    "    '''\n",
    "    Compute subskin temperature T_δ from finite-difference implementation of B17 eq 14\n",
    "    \n",
    "    Δt = length of timestep in seconds\n",
    "    '''\n",
    "    #constants\n",
    "    κ = 0.4 #von Karman\n",
    "    ρ = 1027 #kg/m^3\n",
    "    c = 4000 #J/kg/K\n",
    "    \n",
    "    #compute solar transmission fraction at measurement depth\n",
    "    fs_d = solar_transmission(d)\n",
    "    \n",
    "    #compute total heat flux in the layer\n",
    "    Q = Qlat + Qsens + Qlw + Qrain + Qsw*fs_d\n",
    "    \n",
    "    #compute η assuming fresh layer\n",
    "    η = η_freshlayer(U)\n",
    "    \n",
    "    \n",
    "    \n",
    "    #compute Tδ\n",
    "    Tδ_now = Δt*(Q/(d*ρ*c*(η/(η+1))) - ((η+1)*κ*ustar))"
   ]
  },
  {
   "cell_type": "code",
   "execution_count": 53,
   "metadata": {},
   "outputs": [],
   "source": [
    "def stability_gradient(z, L):\n",
    "    '''\n",
    "    Calculate nondimensional temperature gradient function following Takaya et al 2010 eq. 5 for consistency with B17.\n",
    "    '''\n",
    "    \n",
    "    ζ = z/L\n",
    "    \n",
    "    ζ = np.asarray(ζ) #convert input to array for vectorization\n",
    "    ϕ = np.zeros(ζ.shape) #initialize output array of same shape and all zeros\n",
    "    \n",
    "    #implement vectorized piecewise function\n",
    "    ϕ += (ζ < 0) * (1 - 16*ζ)**(-1/2)\n",
    "    ϕ = np.nan_to_num(ϕ) # that first one yields Nans and we need to make them zeroes again for this to work\n",
    "    ϕ += (ζ >= 0) * (1 + ((5*ζ + 4*(ζ**2))/(1 + 3*ζ + 0.25*(ζ**2))))\n",
    "    \n",
    "    return ϕ\n"
   ]
  },
  {
   "cell_type": "code",
   "execution_count": 62,
   "metadata": {},
   "outputs": [
    {
     "name": "stderr",
     "output_type": "stream",
     "text": [
      "C:\\ProgramData\\Anaconda3\\lib\\site-packages\\ipykernel_launcher.py:12: RuntimeWarning: invalid value encountered in power\n",
      "  if sys.path[0] == '':\n"
     ]
    },
    {
     "data": {
      "image/png": "[encoded data removed]",
      "text/plain": [
       "<Figure size 432x288 with 1 Axes>"
      ]
     },
     "metadata": {},
     "output_type": "display_data"
    }
   ],
   "source": [
    "zs = np.linspace(-1, 1)\n",
    "L = 1\n",
    "\n",
    "plt.plot(zs/L, stability_gradient(zs,L))\n",
    "plt.grid()\n",
    "plt.xlabel('z/L')\n",
    "plt.ylabel('$ϕ_t(z/L)$');"
   ]
  },
  {
   "cell_type": "code",
   "execution_count": 33,
   "metadata": {},
   "outputs": [],
   "source": [
    "LON = 80.5\n",
    "LAT = 0\n",
    "\n",
    "def buoyancy_flux(Qlat, Qsens, Qlw, Qsw, Qrain, d, T, S, R):\n",
    "    '''\n",
    "    Calculate buoyancy flux following B17 eq. 13\n",
    "    \n",
    "    Inputs:\n",
    "        Qlat - Latent Heat Flux [W/m^2]\n",
    "        Qsens - Sensible Heat Flux [W/m^2]\n",
    "        Qlw - Longwave Heat Flux [W/m^2]\n",
    "        Qsw - Shortwave Heat Flux [W/m^2]\n",
    "        Qrain - rain sensible heat flux (Gosnell) [W/m^2]\n",
    "        d - measurement depth [m]\n",
    "        T - temperature [C]\n",
    "        S - salinity [psu]\n",
    "        R - precipitation rate [mm/hr]\n",
    "    \n",
    "    Output:\n",
    "        B - buoyancy flux [m^2/s^3]\n",
    "    \n",
    "    '''\n",
    "    #constants\n",
    "    ρ = 1027 #kg/m^3\n",
    "    g = 9.8  #m/s^2\n",
    "    c = 4000 #J/kg/K\n",
    "    \n",
    "    #thermodynamic properties\n",
    "    SA = gsw.SA_from_SP(SP=S, p=0, lon=LON, lat=LAT) #g/kg\n",
    "    CT = gsw.CT_from_t(SA=SA, t=T, p=0)              #C\n",
    "    α = gsw.alpha(SA, CT, p=0)                       #1/K\n",
    "    β = gsw.beta(SA, CT, p=0)                        #kg/g\n",
    "    Lv = gsw.latentheat_evap_CT(SA, CT)              #J/kg\n",
    "    \n",
    "    #convert rain rate [mm/hr] to mass flux per unit area [kg/m^2/s] (1mm water = 1kg/m^2)\n",
    "    P = R/3600 #kg/m^2/s\n",
    "    \n",
    "    #compute solar transmission fraction at measurement depth\n",
    "    fs_d = solar_transmission(d)\n",
    "    \n",
    "    #calculate Buoyancy Flux\n",
    "    B = ((α*g)/(ρ*c))*(Qlat + Qsens + Qlw + Qrain + Qsw*fs_d) - (β*g*S/ρ)*(Qlat/Lv - P)\n",
    "    \n",
    "    return B\n",
    "    "
   ]
  },
  {
   "cell_type": "code",
   "execution_count": 41,
   "metadata": {},
   "outputs": [],
   "source": [
    "def buoyancy_flux_noEquilibrium(η, d, ustar, ρ_δ, ρ_d):\n",
    "    '''\n",
    "    Calculate buoyancy flux following B17 eq. 15 (for cases where MO similarity theory doesn't hold because stratification is stable but buoyancy flux is negative)\n",
    "    \n",
    "    '''\n",
    "    ρ = 1027 #kg/m^3\n",
    "    \n",
    "    B = (ustar**2) * (-η*g*(ρ_δ - ρ_d)/(5*d*ρ))**(1/2)\n",
    "    \n",
    "    return B\n",
    "   "
   ]
  },
  {
   "cell_type": "code",
   "execution_count": 36,
   "metadata": {},
   "outputs": [],
   "source": [
    "def η_freshlayer(U):\n",
    "    '''\n",
    "    Following instructions in B17 pg. 488, calculate exponent η for rain-induced fresh layers based on wind speed\n",
    "    \n",
    "    U - 10m wind speed (m/s)\n",
    "    '''\n",
    "    \n",
    "    U = np.asarray(U) #convert input to array for vectorization\n",
    "    η = np.zeros(U.shape) #initialize output array of same shape and all zeros\n",
    "    \n",
    "    #implement vectorized piecewise function\n",
    "    η += (U < 2) * 0.133\n",
    "    η += ((U >=2) & (U < 15))* U/15\n",
    "    η += (U >= 15)* 1\n",
    "    \n",
    "    return η"
   ]
  },
  {
   "cell_type": "code",
   "execution_count": 40,
   "metadata": {},
   "outputs": [
    {
     "data": {
      "image/png": "[encoded data removed]",
      "text/plain": [
       "<Figure size 432x288 with 1 Axes>"
      ]
     },
     "metadata": {},
     "output_type": "display_data"
    }
   ],
   "source": [
    "winds = np.linspace(0,20)\n",
    "plt.plot(winds, η_freshlayer(winds))\n",
    "plt.grid()\n",
    "plt.title('Piecewise η');"
   ]
  },
  {
   "cell_type": "code",
   "execution_count": 5,
   "metadata": {},
   "outputs": [],
   "source": [
    "def L_MO(ustar, B):\n",
    "    '''\n",
    "    Calculate Monin-Obukhov length L from friction velocity and buoyancy flux (B17 pg. 489)\n",
    "     \n",
    "    ustar = friction velocity [m/s]\n",
    "    B = buoyancy flux [m^2/s^3]\n",
    "    '''\n",
    "    k = 0.4 #Von Karman constant\n",
    "    \n",
    "    L = (ustar**3)/(k*B)\n",
    "    \n",
    "    return L"
   ]
  },
  {
   "cell_type": "code",
   "execution_count": 186,
   "metadata": {},
   "outputs": [],
   "source": [
    "def ustar_subskin(τ_wind, U, R):\n",
    "    '''\n",
    "    Calculate ustar in the presence of rain for sub-skin waters (neglecting turbulent effect of rain but not momentum input from rain)\n",
    "    From Bellenger et al., 2017 eq. 16\n",
    "     \n",
    "    τ_wind = wind stress (N/m^2)\n",
    "    U = 10m wind speed (m/s)\n",
    "    R = rain rate (mm/hr)\n",
    "    '''\n",
    "    ρ = 1027 #kg/m^3\n",
    "    \n",
    "    τ_rain = 0.85*U*R\n",
    "    \n",
    "    ustar = np.sqrt((τ_wind + τ_rain)/ρ)\n",
    "    \n",
    "    return ustar"
   ]
  },
  {
   "cell_type": "code",
   "execution_count": 13,
   "metadata": {},
   "outputs": [],
   "source": [
    "def volume_fraction_skin_B17(δ, R):\n",
    "    '''\n",
    "    USING 4.1 as lambda coefficient!\n",
    "    Calculate the fraction of rain volume deposited in skin layer of thickness δ [m] (approximation for δ close to zero)\n",
    "    From Bellenger et al., 2017 eq. 9\n",
    "    '''\n",
    "    a = 100 #coefficient of proportionality between raindrop radius and penetration depth (Manton, 1973)\n",
    "    \n",
    "    # Coefficients derived for exponential sum fit (Schlussel et al., 1997)\n",
    "    ζ = [-0.26091e-2, -0.22743e-2, -0.15406e-2, -0.12281e-2, -0.87950e-3, -0.77123e-3, -0.57451e-3, -0.43800e-3, -0.67228e-4, -0.64955e-4, -0.44234e-4, -0.33906e-4, -0.27433e-5, -0.40283e-6]\n",
    "    ψ = [ 0.60107,     0.29968,     0.55630,     1.80858,     0.21750,     0.33961,     0.96368,     0.65081,     0.59670,     2.7661,      2.2812,      2.7674,      2.6095,      6.5308    ]\n",
    "    \n",
    "    rc = 4e-4 #[m] critical radius below which raindrops lack energy needed to break surface tension (Oguz & Prosperetti, 1991)\n",
    "    \n",
    "    Λ = 4.1*(R**-0.21) # (Marshall and Palmer, 1948)\n",
    "    \n",
    "    f0 = (1 + 2*Λ*rc + 4*(Λ**2)*(rc**2) + 8*(Λ**3)*(rc**3)) * np.exp(-2*Λ*rc)\n",
    "    \n",
    "    sum_terms = []\n",
    "    for ζi, ψi in zip(ζ,ψ):\n",
    "        sum_terms.append(ζi*np.exp(-ψi*Λ*δ/a))\n",
    "        \n",
    "    fv = δ*np.sum(sum_terms) + f0\n",
    "    \n",
    "    return fv\n",
    "    "
   ]
  },
  {
   "cell_type": "code",
   "execution_count": 14,
   "metadata": {},
   "outputs": [],
   "source": [
    "def volume_fraction_skin_MP48(δ, R):\n",
    "    '''\n",
    "    USING 41 as lambda coefficient!\n",
    "    Calculate the fraction of rain volume deposited in skin layer of thickness δ [m] (approximation for δ close to zero)\n",
    "    From Bellenger et al., 2017 eq. 9\n",
    "    '''\n",
    "    a = 100 #coefficient of proportionality between raindrop radius and penetration depth (Manton, 1973)\n",
    "    \n",
    "    # Coefficients derived for exponential sum fit (Schlussel et al., 1997)\n",
    "    ζ = [-0.26091e-2, -0.22743e-2, -0.15406e-2, -0.12281e-2, -0.87950e-3, -0.77123e-3, -0.57451e-3, -0.43800e-3, -0.67228e-4, -0.64955e-4, -0.44234e-4, -0.33906e-4, -0.27433e-5, -0.40283e-6]\n",
    "    ψ = [ 0.60107,     0.29968,     0.55630,     1.80858,     0.21750,     0.33961,     0.96368,     0.65081,     0.59670,     2.7661,      2.2812,      2.7674,      2.6095,      6.5308    ]\n",
    "    \n",
    "    rc = 4e-4 #[m] critical radius below which raindrops lack energy needed to break surface tension (Oguz & Prosperetti, 1991)\n",
    "    \n",
    "    Λ = 41*(R**-0.21) # (Marshall and Palmer, 1948)\n",
    "    \n",
    "    f0 = (1 + 2*Λ*rc + 4*(Λ**2)*(rc**2) + 8*(Λ**3)*(rc**3)) * np.exp(-2*Λ*rc)\n",
    "    \n",
    "    sum_terms = []\n",
    "    for ζi, ψi in zip(ζ,ψ):\n",
    "        sum_terms.append(ζi*np.exp(-ψi*Λ*δ/a))\n",
    "        \n",
    "    fv = δ*np.sum(sum_terms) + f0\n",
    "    \n",
    "    return fv\n",
    "    "
   ]
  },
  {
   "cell_type": "code",
   "execution_count": 247,
   "metadata": {},
   "outputs": [
    {
     "data": {
      "text/plain": [
       "(0.9998947207826783, 1.0000000077759559)"
      ]
     },
     "execution_count": 247,
     "metadata": {},
     "output_type": "execute_result"
    }
   ],
   "source": [
    "fv, f0 = volume_fraction_skin(0.01,100)\n",
    "fv, f0"
   ]
  },
  {
   "cell_type": "code",
   "execution_count": 205,
   "metadata": {},
   "outputs": [
    {
     "data": {
      "text/plain": [
       "1.0000012905951596"
      ]
     },
     "execution_count": 205,
     "metadata": {},
     "output_type": "execute_result"
    }
   ],
   "source": [
    "f0"
   ]
  },
  {
   "cell_type": "code",
   "execution_count": 207,
   "metadata": {},
   "outputs": [
    {
     "data": {
      "text/plain": [
       "-0.010528667741299475"
      ]
     },
     "execution_count": 207,
     "metadata": {},
     "output_type": "execute_result"
    }
   ],
   "source": [
    "np.sum(sum_terms)"
   ]
  },
  {
   "cell_type": "code",
   "execution_count": 20,
   "metadata": {},
   "outputs": [
    {
     "data": {
      "image/png": "[encoded data removed]",
      "text/plain": [
       "<Figure size 432x288 with 1 Axes>"
      ]
     },
     "metadata": {},
     "output_type": "display_data"
    }
   ],
   "source": [
    "depths = np.linspace(0,0.01)\n",
    "plt.plot(volume_fraction_skin_B17(depths,10),depths)\n",
    "plt.plot(volume_fraction_skin_MP48(depths,10),depths)\n",
    "plt.gca().invert_yaxis()\n",
    "plt.legend(['$\\Lambda = 4.1 R^{-0.21}$', '$\\Lambda = 41 R^{-0.21}$'])\n",
    "plt.title('Fraction of Rain Volume that penetrates to at least the given depth')#,fontsize='small')\n",
    "plt.xlabel('$f_v(\\delta)$ (Decimal Fraction)')\n",
    "plt.ylabel('$\\delta$ (Depth in m)')\n",
    "plt.grid()\n"
   ]
  },
  {
   "cell_type": "code",
   "execution_count": 3,
   "metadata": {},
   "outputs": [],
   "source": [
    "def ustar_skin(τ_wind, U, R, δ):\n",
    "    '''\n",
    "    Calculate ustar in the presence of rain for skin layer (including both turbulent effect of rain and momentum input from rain)\n",
    "    From Bellenger et al., 2017 eq. 6\n",
    "     \n",
    "    τ_wind = wind stress (N/m^2)\n",
    "    U = 10m wind speed (m/s)\n",
    "    R = rain rate (mm/hr)\n",
    "    '''\n",
    "    ρ = 1027 #kg/m^3\n",
    "    \n",
    "    τ_rain = 0.85*U*R\n",
    "    \n",
    "    a = 4e-4\n",
    "    b = 1.3\n",
    "    τ_k = ρ*((a*(R**b))/ρ)**(2/3)\n",
    "    \n",
    "    fv_δ = volume_fraction_skin(δ, R)\n",
    "    fv_0 = volume_fraction_skin(0, R)\n",
    "    \n",
    "    ustar = np.sqrt((τ_wind + (1-fv_δ)*τ_rain + (fv_0 - fv_δ)*τ_k)/ρ)\n",
    "    \n",
    "    return ustar"
   ]
  },
  {
   "cell_type": "code",
   "execution_count": 163,
   "metadata": {},
   "outputs": [],
   "source": [
    "def solar_transmission(d):\n",
    "    '''\n",
    "    Given a specified depth d [m], calculate the solar transmission fraction at that depth from Fairall 1996a eq. 26 (itself taken from Soloviev 1982)\n",
    "    '''\n",
    "    #define constants\n",
    "    F1 = 0.45\n",
    "    F2 = 0.27\n",
    "    F3 = 0.28\n",
    "    \n",
    "    γ1 = 12.8\n",
    "    γ2 = 0.357\n",
    "    γ3 = 0.014\n",
    "    \n",
    "    sum1 = F1*γ1*(1-np.exp(-d/γ1))\n",
    "    sum2 = F2*γ2*(1-np.exp(-d/γ2))\n",
    "    sum3 = F3*γ3*(1-np.exp(-d/γ3))\n",
    "    \n",
    "    fs = 1 - (sum1+sum2+sum3)/d\n",
    "    \n",
    "    return fs"
   ]
  },
  {
   "cell_type": "code",
   "execution_count": 179,
   "metadata": {},
   "outputs": [
    {
     "name": "stderr",
     "output_type": "stream",
     "text": [
      "C:\\ProgramData\\Anaconda3\\lib\\site-packages\\ipykernel_launcher.py:18: RuntimeWarning: invalid value encountered in true_divide\n"
     ]
    },
    {
     "data": {
      "text/plain": [
       "Text(0, 0.5, 'Depth (m)')"
      ]
     },
     "execution_count": 179,
     "metadata": {},
     "output_type": "execute_result"
    },
    {
     "data": {
      "image/png": "[encoded data removed]",
      "text/plain": [
       "<Figure size 432x288 with 1 Axes>"
      ]
     },
     "metadata": {},
     "output_type": "display_data"
    }
   ],
   "source": [
    "depths = np.linspace(0,100)\n",
    "plt.plot(solar_transmission(depths),depths)\n",
    "plt.gca().invert_yaxis()\n",
    "plt.title('Fraction of Incident Solar Energy Absorbed Above a Given Depth',fontsize='x-small')\n",
    "plt.xlabel('Decimal Fraction')\n",
    "plt.ylabel('Depth (m)')"
   ]
  },
  {
   "cell_type": "code",
   "execution_count": 181,
   "metadata": {},
   "outputs": [],
   "source": [
    "def solar_transmission_skin(δ):\n",
    "    '''\n",
    "    Given a specified skin layer thickness δ [m], calculate the fraction of solar energy absorbed in the skin layer from Zeng & Beljaars 2005 eq. 5 (aka Fairall 96a eq. 16/17)\n",
    "    '''\n",
    "    \n",
    "    fs = 0.065 + 11*δ - (6.6e-5/δ)*(1 - np.exp(-δ/8e-4))\n",
    "    \n",
    "    return fs"
   ]
  },
  {
   "cell_type": "code",
   "execution_count": 184,
   "metadata": {},
   "outputs": [
    {
     "name": "stderr",
     "output_type": "stream",
     "text": [
      "C:\\ProgramData\\Anaconda3\\lib\\site-packages\\ipykernel_launcher.py:6: RuntimeWarning: divide by zero encountered in true_divide\n",
      "  \n",
      "C:\\ProgramData\\Anaconda3\\lib\\site-packages\\ipykernel_launcher.py:6: RuntimeWarning: invalid value encountered in multiply\n",
      "  \n"
     ]
    },
    {
     "data": {
      "text/plain": [
       "Text(0, 0.5, 'Depth (m)')"
      ]
     },
     "execution_count": 184,
     "metadata": {},
     "output_type": "execute_result"
    },
    {
     "data": {
      "image/png": "[encoded data removed]",
      "text/plain": [
       "<Figure size 432x288 with 1 Axes>"
      ]
     },
     "metadata": {},
     "output_type": "display_data"
    }
   ],
   "source": [
    "depths = np.linspace(0,0.002)\n",
    "plt.plot(solar_transmission_skin(depths),depths)\n",
    "plt.gca().invert_yaxis()\n",
    "plt.title('Fraction of Incident Solar Energy Absorbed Within Skin Layer of Given Thickness',fontsize='x-small')\n",
    "plt.xlabel('Decimal Fraction')\n",
    "plt.ylabel('Depth (m)')"
   ]
  }
 ],
 "metadata": {
  "kernelspec": {
   "display_name": "Python 3",
   "language": "python",
   "name": "python3"
  },
  "language_info": {
   "codemirror_mode": {
    "name": "ipython",
    "version": 3
   },
   "file_extension": ".py",
   "mimetype": "text/x-python",
   "name": "python",
   "nbconvert_exporter": "python",
   "pygments_lexer": "ipython3",
   "version": "3.6.5"
  }
 },
 "nbformat": 4,
 "nbformat_minor": 2
}
